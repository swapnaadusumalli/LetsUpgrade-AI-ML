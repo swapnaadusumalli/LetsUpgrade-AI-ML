{
 "cells": [
  {
   "cell_type": "code",
   "execution_count": 8,
   "metadata": {},
   "outputs": [
    {
     "data": {
      "text/plain": [
       "Index(['PassengerId', 'Survived', 'Pclass', 'Name', 'Sex', 'Age', 'SibSp',\n",
       "       'Parch', 'Ticket', 'Fare', 'Cabin', 'Embarked'],\n",
       "      dtype='object')"
      ]
     },
     "execution_count": 8,
     "metadata": {},
     "output_type": "execute_result"
    }
   ],
   "source": [
    "import pandas as pd\n",
    "import numpy as np\n",
    "from sklearn.preprocessing import LabelEncoder\n",
    "from sklearn.model_selection import train_test_split\n",
    "from sklearn.naive_bayes import BernoulliNB\n",
    "from sklearn.metrics import accuracy_score, confusion_matrix\n",
    "dataset=pd.read_csv(\"C:/AIandMLAssigment/train.csv\")\n",
    "dataset.columns\n"
   ]
  },
  {
   "cell_type": "code",
   "execution_count": 9,
   "metadata": {
    "scrolled": false
   },
   "outputs": [],
   "source": [
    "\n",
    "dataset = dataset.drop(['PassengerId','Name','Ticket','Cabin'], axis=1)\n"
   ]
  },
  {
   "cell_type": "code",
   "execution_count": 10,
   "metadata": {},
   "outputs": [],
   "source": [
    "\n",
    "le = LabelEncoder()\n",
    "dataset['Sex'] = le.fit_transform(dataset['Sex'])\n",
    "dataset['Embarked'] = le.fit_transform(dataset['Embarked'])\n"
   ]
  },
  {
   "cell_type": "code",
   "execution_count": 11,
   "metadata": {},
   "outputs": [],
   "source": [
    "def Test(col):\n",
    "    x = dataset.drop([col], axis=1)\n",
    "    y = dataset[col]\n",
    "    train_x, test_x, train_y, test_y = train_test_split(x, y, test_size=0.2, random_state = 42)\n",
    "    model = BernoulliNB()\n",
    "    model.fit(train_x, train_y)\n",
    "    ypred = model.predict(test_x)\n",
    "    print(f\"Accuracy score is {accuracy_score(test_y, ypred)}\")\n",
    "    print(\"-------------------------------------\")\n",
    "    print(f\"Confusion Matrix: \\n{confusion_matrix(test_y, ypred)}\")"
   ]
  },
  {
   "cell_type": "code",
   "execution_count": 12,
   "metadata": {},
   "outputs": [
    {
     "name": "stdout",
     "output_type": "stream",
     "text": [
      "Accuracy score is 0.5786516853932584\n",
      "-------------------------------------\n",
      "Confusion Matrix: \n",
      "[[15 10 19]\n",
      " [ 0  8 34]\n",
      " [ 6  6 80]]\n"
     ]
    }
   ],
   "source": [
    "Test('Pclass')"
   ]
  },
  {
   "cell_type": "code",
   "execution_count": 13,
   "metadata": {},
   "outputs": [
    {
     "name": "stdout",
     "output_type": "stream",
     "text": [
      "Accuracy score is 0.6910112359550562\n",
      "-------------------------------------\n",
      "Confusion Matrix: \n",
      "[[108  17   0   0   0   0]\n",
      " [ 28  15   0   0   0   0]\n",
      " [  3   2   0   0   0   0]\n",
      " [  1   1   0   0   0   0]\n",
      " [  1   1   0   0   0   0]\n",
      " [  0   1   0   0   0   0]]\n"
     ]
    }
   ],
   "source": [
    "Test('SibSp')"
   ]
  },
  {
   "cell_type": "code",
   "execution_count": 14,
   "metadata": {},
   "outputs": [
    {
     "name": "stdout",
     "output_type": "stream",
     "text": [
      "Accuracy score is 0.797752808988764\n",
      "-------------------------------------\n",
      "Confusion Matrix: \n",
      "[[53 20]\n",
      " [16 89]]\n"
     ]
    }
   ],
   "source": [
    "Test('Sex')"
   ]
  },
  {
   "cell_type": "code",
   "execution_count": 15,
   "metadata": {},
   "outputs": [
    {
     "name": "stdout",
     "output_type": "stream",
     "text": [
      "Accuracy score is 0.6966292134831461\n",
      "-------------------------------------\n",
      "Confusion Matrix: \n",
      "[[118  15   0   0   0]\n",
      " [ 24   6   0   0   0]\n",
      " [ 10   2   0   0   0]\n",
      " [  1   0   0   0   0]\n",
      " [  1   1   0   0   0]]\n"
     ]
    }
   ],
   "source": [
    "Test('Parch')"
   ]
  },
  {
   "cell_type": "code",
   "execution_count": 16,
   "metadata": {},
   "outputs": [
    {
     "name": "stdout",
     "output_type": "stream",
     "text": [
      "Accuracy score is 0.7303370786516854\n",
      "-------------------------------------\n",
      "Confusion Matrix: \n",
      "[[  0   0  36]\n",
      " [  0   0  12]\n",
      " [  0   0 130]]\n"
     ]
    }
   ],
   "source": [
    "Test('Embarked')"
   ]
  },
  {
   "cell_type": "code",
   "execution_count": null,
   "metadata": {},
   "outputs": [],
   "source": []
  }
 ],
 "metadata": {
  "kernelspec": {
   "display_name": "Python 3",
   "language": "python",
   "name": "python3"
  },
  "language_info": {
   "codemirror_mode": {
    "name": "ipython",
    "version": 3
   },
   "file_extension": ".py",
   "mimetype": "text/x-python",
   "name": "python",
   "nbconvert_exporter": "python",
   "pygments_lexer": "ipython3",
   "version": "3.7.6"
  },
  "toc": {
   "base_numbering": 1,
   "nav_menu": {},
   "number_sections": true,
   "sideBar": true,
   "skip_h1_title": false,
   "title_cell": "Table of Contents",
   "title_sidebar": "Contents",
   "toc_cell": false,
   "toc_position": {},
   "toc_section_display": true,
   "toc_window_display": false
  }
 },
 "nbformat": 4,
 "nbformat_minor": 4
}
