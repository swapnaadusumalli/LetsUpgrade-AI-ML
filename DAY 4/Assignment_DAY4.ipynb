{
 "cells": [
  {
   "cell_type": "code",
   "execution_count": 3,
   "metadata": {},
   "outputs": [
    {
     "name": "stdout",
     "output_type": "stream",
     "text": [
      "Addition of two complex numbers :  (7-4j)\n",
      "Subtraction of two complex numbers :  (1+10j)\n",
      "Multiplication of two complex numbers :  (33-19j)\n",
      "Division of two complex numbers :  (-0.15517241379310348+0.6379310344827587j)\n"
     ]
    },
    {
     "ename": "TypeError",
     "evalue": "can't mod complex numbers.",
     "output_type": "error",
     "traceback": [
      "\u001b[1;31m---------------------------------------------------------------------------\u001b[0m",
      "\u001b[1;31mTypeError\u001b[0m                                 Traceback (most recent call last)",
      "\u001b[1;32m<ipython-input-3-a0fc19e79ff0>\u001b[0m in \u001b[0;36m<module>\u001b[1;34m\u001b[0m\n\u001b[0;32m      9\u001b[0m \u001b[0mprint\u001b[0m\u001b[1;33m(\u001b[0m\u001b[1;34m\"Division of two complex numbers : \"\u001b[0m\u001b[1;33m,\u001b[0m\u001b[1;33m(\u001b[0m\u001b[1;36m4\u001b[0m\u001b[1;33m+\u001b[0m\u001b[1;36m3j\u001b[0m\u001b[1;33m)\u001b[0m\u001b[1;33m/\u001b[0m\u001b[1;33m(\u001b[0m\u001b[1;36m3\u001b[0m\u001b[1;33m-\u001b[0m\u001b[1;36m7j\u001b[0m\u001b[1;33m)\u001b[0m\u001b[1;33m)\u001b[0m\u001b[1;33m\u001b[0m\u001b[1;33m\u001b[0m\u001b[0m\n\u001b[0;32m     10\u001b[0m \u001b[1;31m# print(\"floor Division of two complex numbers : \",(4+3j)//(3-7j)) can't take floor of complex number.\u001b[0m\u001b[1;33m\u001b[0m\u001b[1;33m\u001b[0m\u001b[1;33m\u001b[0m\u001b[0m\n\u001b[1;32m---> 11\u001b[1;33m \u001b[0mprint\u001b[0m\u001b[1;33m(\u001b[0m\u001b[1;34m\"modulo Division of two complex numbers : \"\u001b[0m\u001b[1;33m,\u001b[0m\u001b[1;33m(\u001b[0m\u001b[1;36m4\u001b[0m\u001b[1;33m+\u001b[0m\u001b[1;36m3j\u001b[0m\u001b[1;33m)\u001b[0m\u001b[1;33m%\u001b[0m\u001b[1;33m(\u001b[0m\u001b[1;36m3\u001b[0m\u001b[1;33m-\u001b[0m\u001b[1;36m7j\u001b[0m\u001b[1;33m)\u001b[0m\u001b[1;33m)\u001b[0m\u001b[1;33m\u001b[0m\u001b[1;33m\u001b[0m\u001b[0m\n\u001b[0m",
      "\u001b[1;31mTypeError\u001b[0m: can't mod complex numbers."
     ]
    }
   ],
   "source": [
    "\n",
    "\"\"\"Q1: Research on whether addition, subtraction, multiplication, division, floor division and modulo\n",
    "operations be performed on complex numbers. Based on your study, implement a Python\n",
    "program to demonstrate these operations.\"\"\"\n",
    "\n",
    "\n",
    "print(\"Addition of two complex numbers : \",(4+3j)+(3-7j))\n",
    "print(\"Subtraction of two complex numbers : \",(4+3j)-(3-7j))\n",
    "print(\"Multiplication of two complex numbers : \",(4+3j)*(3-7j))\n",
    "print(\"Division of two complex numbers : \",(4+3j)/(3-7j))\n",
    "# print(\"floor Division of two complex numbers : \",(4+3j)//(3-7j)) can't take floor of complex number.\n",
    "#print(\"modulo of two complex numbers : \",(4+3j)%(3-7j))  can't mod complex numbers."
   ]
  },
  {
   "cell_type": "markdown",
   "metadata": {},
   "source": [
    "\"\"\"Q 2 :\n",
    "Research on range() functions and its parameters. Create a markdown cell and write in your own\n",
    "words (no copy-paste from google please) what you understand about it. Implement a small\n",
    "program of your choice on the same.\"\"\"\n",
    "\n",
    "1.The range() function returns a sequence of numbers, starting from 0 by default, and increments by 1 (by default), and stops before a specified number.\n",
    "2.If you want you can specify the starting value and ending value and also increment value.\n",
    "\n",
    "start: integer starting value.\n",
    "stop: integer before which the sequence of integers is to be returned.The range of integers end at stop – 1.\n",
    "step: integer  increment value  "
   ]
  },
  {
   "cell_type": "code",
   "execution_count": 14,
   "metadata": {},
   "outputs": [
    {
     "name": "stdout",
     "output_type": "stream",
     "text": [
      "default Fun\n",
      "0\n",
      "1\n",
      "2\n",
      "3\n",
      "4\n",
      "5\n",
      "----default Fun ends-----\n",
      "----Range with starting and ending values-----\n",
      "3\n",
      "4\n",
      "5\n",
      "----Range with starting and ending values ends-----\n",
      "----Range with starting and ending , increment values-----\n",
      "1\n",
      "3\n",
      "5\n",
      "7\n",
      "9\n",
      "11\n",
      "13\n",
      "15\n",
      "17\n",
      "19\n"
     ]
    }
   ],
   "source": [
    "#Range Example\n",
    "print(\"default Fun\")\n",
    "a = range(6)\n",
    "for j in a: \n",
    "  print(j)\n",
    "print(\"----default Fun ends-----\")\n",
    "print(\"----Range with starting and ending values-----\")\n",
    "x = range(3, 6)\n",
    "\n",
    "for n in x:\n",
    "  print(n)\n",
    "print(\"----Range with starting and ending values ends-----\")\n",
    "print(\"----Range with starting and ending , increment values-----\")\n",
    "y= range(1, 20, 2)\n",
    "\n",
    "for i in y:\n",
    "  print(i)"
   ]
  },
  {
   "cell_type": "code",
   "execution_count": 20,
   "metadata": {},
   "outputs": [
    {
     "name": "stdout",
     "output_type": "stream",
     "text": [
      "the values division result is : 1.1428571428571428\n"
     ]
    }
   ],
   "source": [
    "\"\"\"Q 3:\n",
    " Consider two numbers. Perform their subtraction and if the result of subtraction is greater than\n",
    "25, print their multiplication result else print their division result\"\"\"\n",
    "\n",
    "x=80\n",
    "y=70\n",
    "z=x-y\n",
    "if z > 25:\n",
    "    print(\"the values multiplication result is :\",x*y)\n",
    "else:\n",
    "    print(\"the values division result is :\",x/y)"
   ]
  },
  {
   "cell_type": "code",
   "execution_count": 47,
   "metadata": {},
   "outputs": [
    {
     "name": "stdout",
     "output_type": "stream",
     "text": [
      "square of that number minus 2 : 14\n",
      "square of that number minus 2 : 62\n",
      "square of that number minus 2 : 34\n",
      "square of that number minus 2 : 2\n",
      "square of that number minus 2 : 98\n"
     ]
    }
   ],
   "source": [
    "\"\"\"Q 4:\n",
    "Consider a list of 10 elements of integer values. If the number in the list is divisible by 2, print the\n",
    "result as \"square of that number minus 2\".\"\"\"\n",
    "\n",
    "l=[4,8,5,3,6,1,2,9,7,10]\n",
    "\n",
    "for num in l:\n",
    "    if (num%2 == 0):\n",
    "        print(\"square of that number minus 2 :\",num**2-2)\n",
    "   \n",
    "\n",
    "\n"
   ]
  },
  {
   "cell_type": "code",
   "execution_count": 48,
   "metadata": {},
   "outputs": [
    {
     "name": "stdout",
     "output_type": "stream",
     "text": [
      "the number is : 8\n",
      "the number is : 10\n"
     ]
    }
   ],
   "source": [
    "\"\"\"# Q5: Consider a list of 10 elements. Print all the elements in the list which are greater than 7 when that\n",
    "number is divided 2.\"\"\"\n",
    "\n",
    "l=[4,8,5,3,6,1,2,9,7,10]\n",
    "\n",
    "for num in l:\n",
    "    if(num > 7):    \n",
    "        if (num%2 == 0):\n",
    "            print(\"the number is :\",num)\n",
    "\n"
   ]
  },
  {
   "cell_type": "code",
   "execution_count": null,
   "metadata": {},
   "outputs": [],
   "source": []
  }
 ],
 "metadata": {
  "kernelspec": {
   "display_name": "Python 3",
   "language": "python",
   "name": "python3"
  },
  "language_info": {
   "codemirror_mode": {
    "name": "ipython",
    "version": 3
   },
   "file_extension": ".py",
   "mimetype": "text/x-python",
   "name": "python",
   "nbconvert_exporter": "python",
   "pygments_lexer": "ipython3",
   "version": "3.7.6"
  }
 },
 "nbformat": 4,
 "nbformat_minor": 4
}
