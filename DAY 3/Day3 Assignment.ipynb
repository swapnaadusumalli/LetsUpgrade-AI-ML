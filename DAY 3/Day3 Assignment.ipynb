{
 "cells": [
  {
   "cell_type": "code",
   "execution_count": 4,
   "metadata": {},
   "outputs": [
    {
     "name": "stdout",
     "output_type": "stream",
     "text": [
      "Subtraction of two complex number= (2-7j)\n"
     ]
    }
   ],
   "source": [
    "# Q1. Write a program to subtract two complex numbers in Python.\n",
    "\n",
    "complexno1 = 3 + 7j\n",
    "complexno2 = 1 + 14j\n",
    "print('Subtraction of two complex number=', complexno1 - complexno2)"
   ]
  },
  {
   "cell_type": "code",
   "execution_count": 5,
   "metadata": {},
   "outputs": [
    {
     "name": "stdout",
     "output_type": "stream",
     "text": [
      "fourth root of 2 is : 16\n"
     ]
    }
   ],
   "source": [
    "# Q2. Write a program to find the fourth root of a number.\n",
    "\n",
    "num=2\n",
    "print(\"fourth root of 2 is :\",2**4)\n"
   ]
  },
  {
   "cell_type": "code",
   "execution_count": 6,
   "metadata": {},
   "outputs": [
    {
     "name": "stdout",
     "output_type": "stream",
     "text": [
      "Value of x: 50\n",
      "Value of y: 10\n"
     ]
    }
   ],
   "source": [
    "# Q3. Write a program to swap two numbers in Python with the help of a temporary variable\n",
    "\n",
    "x = 10\n",
    "y = 50\n",
    "  \n",
    "# Swapping of two variables \n",
    "# Using third variable \n",
    "temp = x \n",
    "x = y \n",
    "y = temp \n",
    "  \n",
    "print(\"Value of x:\", x) \n",
    "print(\"Value of y:\", y) "
   ]
  },
  {
   "cell_type": "code",
   "execution_count": 7,
   "metadata": {},
   "outputs": [
    {
     "name": "stdout",
     "output_type": "stream",
     "text": [
      "Enter the first number: 2\n",
      "Enter the second number: 4\n",
      "Swapped values of x is 4.0 & y is 2.0\n"
     ]
    }
   ],
   "source": [
    "#Q4.Write a program to swap two numbers in Python without using a temporary variable.\n",
    "\n",
    "#taking the input from the user\n",
    "a = float(input(\"Enter the first number: \"))\n",
    "b = float(input(\"Enter the second number: \"))\n",
    "\n",
    "#swapping using arithmetic operators + & -\n",
    "a = a + b\n",
    "b = a - b\n",
    "a = a - b\n",
    "\n",
    "#printing the output\n",
    "print(\"Swapped values of x is %.1f & y is %.1f\" %(a,b))"
   ]
  },
  {
   "cell_type": "code",
   "execution_count": 14,
   "metadata": {},
   "outputs": [
    {
     "name": "stdout",
     "output_type": "stream",
     "text": [
      "fahrenheit to kelvin ( K ) = 311.278\n",
      "fahrenheit to celsius (C) = 37.77777777777778\n"
     ]
    }
   ],
   "source": [
    "#Q5. Write a program to convert fahrenheit to kelvin and celsius both.\n",
    "\n",
    "# Function to convert temperature \n",
    "def Fahrenheit_to_Kelvin(F): \n",
    "    return 273.5 + ((F - 32.0) * (5.0/9.0)) \n",
    "  \n",
    "# Driver function \n",
    "F = 100\n",
    "print(\"fahrenheit to kelvin ( K ) = {:.3f}\" \n",
    "            .format(Fahrenheit_to_Kelvin( F ))) \n",
    "\n",
    "celsius = (F-32)/1.8;\n",
    "print(\"fahrenheit to celsius (C) =\",celsius);"
   ]
  },
  {
   "cell_type": "code",
   "execution_count": 2,
   "metadata": {},
   "outputs": [
    {
     "name": "stdout",
     "output_type": "stream",
     "text": [
      "Type of x:  <class 'int'>\n",
      "\n",
      "Type of y:  <class 'float'>\n",
      "\n",
      "Type of z:  <class 'complex'>\n",
      "<class 'str'>\n",
      "<class 'str'>\n",
      "<class 'bool'>\n",
      "<class 'bool'>\n",
      "<class 'list'>\n"
     ]
    }
   ],
   "source": [
    "# 6. Write a program to demonstrate all the available data types in Python. Hint: Use type() function. \n",
    "\n",
    "  \n",
    "x = 10\n",
    "print(\"Type of x: \", type(x)) \n",
    "  \n",
    "y = 7.0\n",
    "print(\"\\nType of y: \", type(y)) \n",
    "  \n",
    "z = 5 + 8j\n",
    "print(\"\\nType of z: \", type(z)) \n",
    "\n",
    "\n",
    "String1 = \"welcome\"\n",
    "print(type(String1))\n",
    "\n",
    "Tuple1 = (\"test\")  \n",
    "print(type(Tuple1))\n",
    "\n",
    "\n",
    "print(type(True)) \n",
    "print(type(False))\n",
    "\n",
    "List = ['python']  \n",
    "print(type(List))"
   ]
  },
  {
   "cell_type": "markdown",
   "metadata": {},
   "source": [
    "# Question 7: Create a Markdown cell in jupyter and list the steps discussed in the session by Dr. Darshan Ingle sir to create Github profile and upload Githubs Assignment link.\n",
    "\n",
    "\n",
    "1.fist create a  github account similar like signing into gmail account.\n",
    "2.next create a Repositories name as LetsUpgrade AI/ML and here select upload a exsting file and drag the DAY3 folder into this which has the assignment and commit changes.\n",
    "3.After completion we can open the assignment file and check wheter its oping or not by clicking on it.\n",
    "5.And also we can check it by clicking on 3 dots of the browsers new incognito window it will open new window copy your path and check if you are code is opning then its fine.\n",
    "4.Now copy the path  till Day3 and fill the assignment form and submit."
   ]
  }
 ],
 "metadata": {
  "kernelspec": {
   "display_name": "Python 3",
   "language": "python",
   "name": "python3"
  },
  "language_info": {
   "codemirror_mode": {
    "name": "ipython",
    "version": 3
   },
   "file_extension": ".py",
   "mimetype": "text/x-python",
   "name": "python",
   "nbconvert_exporter": "python",
   "pygments_lexer": "ipython3",
   "version": "3.7.6"
  }
 },
 "nbformat": 4,
 "nbformat_minor": 4
}
