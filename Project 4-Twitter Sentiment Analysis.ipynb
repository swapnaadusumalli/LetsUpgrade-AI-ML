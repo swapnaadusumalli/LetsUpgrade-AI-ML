{
 "cells": [
  {
   "cell_type": "code",
   "execution_count": 4,
   "metadata": {},
   "outputs": [],
   "source": [
    "import numpy as np\n",
    "import pandas as pd\n",
    "import tweepy\n",
    "import json\n",
    "from tweepy import OAuthHandler"
   ]
  },
  {
   "cell_type": "code",
   "execution_count": 1,
   "metadata": {},
   "outputs": [
    {
     "name": "stdout",
     "output_type": "stream",
     "text": [
      "Requirement already satisfied: openpyxl in c:\\users\\sadusumalli\\anaconda3\\lib\\site-packages (3.0.3)\n",
      "Requirement already satisfied: jdcal in c:\\users\\sadusumalli\\anaconda3\\lib\\site-packages (from openpyxl) (1.4.1)\n",
      "Requirement already satisfied: et-xmlfile in c:\\users\\sadusumalli\\anaconda3\\lib\\site-packages (from openpyxl) (1.0.1)\n"
     ]
    }
   ],
   "source": [
    "#!pip install openpyxl\n",
    "#!pip install tweepy"
   ]
  },
  {
   "cell_type": "code",
   "execution_count": 9,
   "metadata": {},
   "outputs": [],
   "source": [
    "user_key=\"RUGu38qa0Ri9EGDgeQzU8KfxQ\"\n",
    "user_secret_key=\"wCTha5kgkbDgDgcpssNvW8WW2SfSN1JEp2jk53JqIwDBXiFjbs\"\n",
    "access_token=\"1322508780173668352-pCDf03mvstI3Pe6iU2PZKwCvI0DyWq\"\n",
    "access_token_secret=\"UkIy2PQEzoQwL2ZrjPcmG3ifZm80yV9Fiq7EPXXSJwSJL\""
   ]
  },
  {
   "cell_type": "code",
   "execution_count": 10,
   "metadata": {},
   "outputs": [],
   "source": [
    "\n",
    "auth=tweepy.OAuthHandler(user_key,user_secret_key)\n",
    "auth.set_access_token(access_token,access_token_secret)\n",
    "api=tweepy.API(auth)"
   ]
  },
  {
   "cell_type": "code",
   "execution_count": 12,
   "metadata": {},
   "outputs": [],
   "source": [
    "query = \"RCB winning IPL\""
   ]
  },
  {
   "cell_type": "code",
   "execution_count": 13,
   "metadata": {},
   "outputs": [
    {
     "name": "stdout",
     "output_type": "stream",
     "text": [
      "Status(_api=<tweepy.api.API object at 0x000002360C560F88>, _json={'created_at': 'Mon Nov 09 12:04:55 +0000 2020', 'id': 1325771347192999936, 'id_str': '1325771347192999936', 'full_text': '@RCBTweets @imVkohli RCB finished 13 consecutive seasons without winning an ipl trophy...😆😆😆\\n@RCBTweets  \\n#rcblost', 'truncated': False, 'display_text_range': [21, 114], 'entities': {'hashtags': [{'text': 'rcblost', 'indices': [106, 114]}], 'symbols': [], 'user_mentions': [{'screen_name': 'RCBTweets', 'name': 'Royal Challengers Bangalore', 'id': 70931004, 'id_str': '70931004', 'indices': [0, 10]}, {'screen_name': 'imVkohli', 'name': 'Virat Kohli', 'id': 71201743, 'id_str': '71201743', 'indices': [11, 20]}, {'screen_name': 'RCBTweets', 'name': 'Royal Challengers Bangalore', 'id': 70931004, 'id_str': '70931004', 'indices': [93, 103]}], 'urls': []}, 'metadata': {'iso_language_code': 'en', 'result_type': 'recent'}, 'source': '<a href=\"http://twitter.com/download/android\" rel=\"nofollow\">Twitter for Android</a>', 'in_reply_to_status_id': 1325686916939874309, 'in_reply_to_status_id_str': '1325686916939874309', 'in_reply_to_user_id': 70931004, 'in_reply_to_user_id_str': '70931004', 'in_reply_to_screen_name': 'RCBTweets', 'user': {'id': 1324756308562571264, 'id_str': '1324756308562571264', 'name': 'Nanda Kumar', 'screen_name': 'NandaKu60443616', 'location': '', 'description': '', 'url': None, 'entities': {'description': {'urls': []}}, 'protected': False, 'followers_count': 1, 'friends_count': 38, 'listed_count': 0, 'created_at': 'Fri Nov 06 16:51:43 +0000 2020', 'favourites_count': 118, 'utc_offset': None, 'time_zone': None, 'geo_enabled': False, 'verified': False, 'statuses_count': 5, 'lang': None, 'contributors_enabled': False, 'is_translator': False, 'is_translation_enabled': False, 'profile_background_color': 'F5F8FA', 'profile_background_image_url': None, 'profile_background_image_url_https': None, 'profile_background_tile': False, 'profile_image_url': 'http://abs.twimg.com/sticky/default_profile_images/default_profile_normal.png', 'profile_image_url_https': 'https://abs.twimg.com/sticky/default_profile_images/default_profile_normal.png', 'profile_link_color': '1DA1F2', 'profile_sidebar_border_color': 'C0DEED', 'profile_sidebar_fill_color': 'DDEEF6', 'profile_text_color': '333333', 'profile_use_background_image': True, 'has_extended_profile': True, 'default_profile': True, 'default_profile_image': True, 'following': False, 'follow_request_sent': False, 'notifications': False, 'translator_type': 'none'}, 'geo': None, 'coordinates': None, 'place': None, 'contributors': None, 'is_quote_status': False, 'retweet_count': 0, 'favorite_count': 0, 'favorited': False, 'retweeted': False, 'lang': 'en'}, created_at=datetime.datetime(2020, 11, 9, 12, 4, 55), id=1325771347192999936, id_str='1325771347192999936', full_text='@RCBTweets @imVkohli RCB finished 13 consecutive seasons without winning an ipl trophy...😆😆😆\\n@RCBTweets  \\n#rcblost', truncated=False, display_text_range=[21, 114], entities={'hashtags': [{'text': 'rcblost', 'indices': [106, 114]}], 'symbols': [], 'user_mentions': [{'screen_name': 'RCBTweets', 'name': 'Royal Challengers Bangalore', 'id': 70931004, 'id_str': '70931004', 'indices': [0, 10]}, {'screen_name': 'imVkohli', 'name': 'Virat Kohli', 'id': 71201743, 'id_str': '71201743', 'indices': [11, 20]}, {'screen_name': 'RCBTweets', 'name': 'Royal Challengers Bangalore', 'id': 70931004, 'id_str': '70931004', 'indices': [93, 103]}], 'urls': []}, metadata={'iso_language_code': 'en', 'result_type': 'recent'}, source='Twitter for Android', source_url='http://twitter.com/download/android', in_reply_to_status_id=1325686916939874309, in_reply_to_status_id_str='1325686916939874309', in_reply_to_user_id=70931004, in_reply_to_user_id_str='70931004', in_reply_to_screen_name='RCBTweets', author=User(_api=<tweepy.api.API object at 0x000002360C560F88>, _json={'id': 1324756308562571264, 'id_str': '1324756308562571264', 'name': 'Nanda Kumar', 'screen_name': 'NandaKu60443616', 'location': '', 'description': '', 'url': None, 'entities': {'description': {'urls': []}}, 'protected': False, 'followers_count': 1, 'friends_count': 38, 'listed_count': 0, 'created_at': 'Fri Nov 06 16:51:43 +0000 2020', 'favourites_count': 118, 'utc_offset': None, 'time_zone': None, 'geo_enabled': False, 'verified': False, 'statuses_count': 5, 'lang': None, 'contributors_enabled': False, 'is_translator': False, 'is_translation_enabled': False, 'profile_background_color': 'F5F8FA', 'profile_background_image_url': None, 'profile_background_image_url_https': None, 'profile_background_tile': False, 'profile_image_url': 'http://abs.twimg.com/sticky/default_profile_images/default_profile_normal.png', 'profile_image_url_https': 'https://abs.twimg.com/sticky/default_profile_images/default_profile_normal.png', 'profile_link_color': '1DA1F2', 'profile_sidebar_border_color': 'C0DEED', 'profile_sidebar_fill_color': 'DDEEF6', 'profile_text_color': '333333', 'profile_use_background_image': True, 'has_extended_profile': True, 'default_profile': True, 'default_profile_image': True, 'following': False, 'follow_request_sent': False, 'notifications': False, 'translator_type': 'none'}, id=1324756308562571264, id_str='1324756308562571264', name='Nanda Kumar', screen_name='NandaKu60443616', location='', description='', url=None, entities={'description': {'urls': []}}, protected=False, followers_count=1, friends_count=38, listed_count=0, created_at=datetime.datetime(2020, 11, 6, 16, 51, 43), favourites_count=118, utc_offset=None, time_zone=None, geo_enabled=False, verified=False, statuses_count=5, lang=None, contributors_enabled=False, is_translator=False, is_translation_enabled=False, profile_background_color='F5F8FA', profile_background_image_url=None, profile_background_image_url_https=None, profile_background_tile=False, profile_image_url='http://abs.twimg.com/sticky/default_profile_images/default_profile_normal.png', profile_image_url_https='https://abs.twimg.com/sticky/default_profile_images/default_profile_normal.png', profile_link_color='1DA1F2', profile_sidebar_border_color='C0DEED', profile_sidebar_fill_color='DDEEF6', profile_text_color='333333', profile_use_background_image=True, has_extended_profile=True, default_profile=True, default_profile_image=True, following=False, follow_request_sent=False, notifications=False, translator_type='none'), user=User(_api=<tweepy.api.API object at 0x000002360C560F88>, _json={'id': 1324756308562571264, 'id_str': '1324756308562571264', 'name': 'Nanda Kumar', 'screen_name': 'NandaKu60443616', 'location': '', 'description': '', 'url': None, 'entities': {'description': {'urls': []}}, 'protected': False, 'followers_count': 1, 'friends_count': 38, 'listed_count': 0, 'created_at': 'Fri Nov 06 16:51:43 +0000 2020', 'favourites_count': 118, 'utc_offset': None, 'time_zone': None, 'geo_enabled': False, 'verified': False, 'statuses_count': 5, 'lang': None, 'contributors_enabled': False, 'is_translator': False, 'is_translation_enabled': False, 'profile_background_color': 'F5F8FA', 'profile_background_image_url': None, 'profile_background_image_url_https': None, 'profile_background_tile': False, 'profile_image_url': 'http://abs.twimg.com/sticky/default_profile_images/default_profile_normal.png', 'profile_image_url_https': 'https://abs.twimg.com/sticky/default_profile_images/default_profile_normal.png', 'profile_link_color': '1DA1F2', 'profile_sidebar_border_color': 'C0DEED', 'profile_sidebar_fill_color': 'DDEEF6', 'profile_text_color': '333333', 'profile_use_background_image': True, 'has_extended_profile': True, 'default_profile': True, 'default_profile_image': True, 'following': False, 'follow_request_sent': False, 'notifications': False, 'translator_type': 'none'}, id=1324756308562571264, id_str='1324756308562571264', name='Nanda Kumar', screen_name='NandaKu60443616', location='', description='', url=None, entities={'description': {'urls': []}}, protected=False, followers_count=1, friends_count=38, listed_count=0, created_at=datetime.datetime(2020, 11, 6, 16, 51, 43), favourites_count=118, utc_offset=None, time_zone=None, geo_enabled=False, verified=False, statuses_count=5, lang=None, contributors_enabled=False, is_translator=False, is_translation_enabled=False, profile_background_color='F5F8FA', profile_background_image_url=None, profile_background_image_url_https=None, profile_background_tile=False, profile_image_url='http://abs.twimg.com/sticky/default_profile_images/default_profile_normal.png', profile_image_url_https='https://abs.twimg.com/sticky/default_profile_images/default_profile_normal.png', profile_link_color='1DA1F2', profile_sidebar_border_color='C0DEED', profile_sidebar_fill_color='DDEEF6', profile_text_color='333333', profile_use_background_image=True, has_extended_profile=True, default_profile=True, default_profile_image=True, following=False, follow_request_sent=False, notifications=False, translator_type='none'), geo=None, coordinates=None, place=None, contributors=None, is_quote_status=False, retweet_count=0, favorite_count=0, favorited=False, retweeted=False, lang='en') \n",
      "\n",
      ".....................................\n",
      "\n",
      "Status(_api=<tweepy.api.API object at 0x000002360C560F88>, _json={'created_at': 'Mon Nov 09 09:29:16 +0000 2020', 'id': 1325732175912710145, 'id_str': '1325732175912710145', 'full_text': \"@RCBTweets @navdeepsaini96 Until &amp; unless you change rcb captain, we can't even dream of winning IPL.\", 'truncated': False, 'display_text_range': [27, 105], 'entities': {'hashtags': [], 'symbols': [], 'user_mentions': [{'screen_name': 'RCBTweets', 'name': 'Royal Challengers Bangalore', 'id': 70931004, 'id_str': '70931004', 'indices': [0, 10]}, {'screen_name': 'navdeepsaini96', 'name': 'Navdeep Saini', 'id': 835896862871863298, 'id_str': '835896862871863298', 'indices': [11, 26]}], 'urls': []}, 'metadata': {'iso_language_code': 'en', 'result_type': 'recent'}, 'source': '<a href=\"http://twitter.com/download/android\" rel=\"nofollow\">Twitter for Android</a>', 'in_reply_to_status_id': 1325717693886947328, 'in_reply_to_status_id_str': '1325717693886947328', 'in_reply_to_user_id': 70931004, 'in_reply_to_user_id_str': '70931004', 'in_reply_to_screen_name': 'RCBTweets', 'user': {'id': 1308359034148278273, 'id_str': '1308359034148278273', 'name': 'Escn Rcb', 'screen_name': 'EscnRcb', 'location': '', 'description': '', 'url': None, 'entities': {'description': {'urls': []}}, 'protected': False, 'followers_count': 4, 'friends_count': 20, 'listed_count': 0, 'created_at': 'Tue Sep 22 10:54:57 +0000 2020', 'favourites_count': 2341, 'utc_offset': None, 'time_zone': None, 'geo_enabled': False, 'verified': False, 'statuses_count': 87, 'lang': None, 'contributors_enabled': False, 'is_translator': False, 'is_translation_enabled': False, 'profile_background_color': 'F5F8FA', 'profile_background_image_url': None, 'profile_background_image_url_https': None, 'profile_background_tile': False, 'profile_image_url': 'http://pbs.twimg.com/profile_images/1308361097062146048/PI7NMoib_normal.jpg', 'profile_image_url_https': 'https://pbs.twimg.com/profile_images/1308361097062146048/PI7NMoib_normal.jpg', 'profile_link_color': '1DA1F2', 'profile_sidebar_border_color': 'C0DEED', 'profile_sidebar_fill_color': 'DDEEF6', 'profile_text_color': '333333', 'profile_use_background_image': True, 'has_extended_profile': True, 'default_profile': True, 'default_profile_image': False, 'following': False, 'follow_request_sent': False, 'notifications': False, 'translator_type': 'none'}, 'geo': None, 'coordinates': None, 'place': None, 'contributors': None, 'is_quote_status': False, 'retweet_count': 0, 'favorite_count': 0, 'favorited': False, 'retweeted': False, 'lang': 'en'}, created_at=datetime.datetime(2020, 11, 9, 9, 29, 16), id=1325732175912710145, id_str='1325732175912710145', full_text=\"@RCBTweets @navdeepsaini96 Until &amp; unless you change rcb captain, we can't even dream of winning IPL.\", truncated=False, display_text_range=[27, 105], entities={'hashtags': [], 'symbols': [], 'user_mentions': [{'screen_name': 'RCBTweets', 'name': 'Royal Challengers Bangalore', 'id': 70931004, 'id_str': '70931004', 'indices': [0, 10]}, {'screen_name': 'navdeepsaini96', 'name': 'Navdeep Saini', 'id': 835896862871863298, 'id_str': '835896862871863298', 'indices': [11, 26]}], 'urls': []}, metadata={'iso_language_code': 'en', 'result_type': 'recent'}, source='Twitter for Android', source_url='http://twitter.com/download/android', in_reply_to_status_id=1325717693886947328, in_reply_to_status_id_str='1325717693886947328', in_reply_to_user_id=70931004, in_reply_to_user_id_str='70931004', in_reply_to_screen_name='RCBTweets', author=User(_api=<tweepy.api.API object at 0x000002360C560F88>, _json={'id': 1308359034148278273, 'id_str': '1308359034148278273', 'name': 'Escn Rcb', 'screen_name': 'EscnRcb', 'location': '', 'description': '', 'url': None, 'entities': {'description': {'urls': []}}, 'protected': False, 'followers_count': 4, 'friends_count': 20, 'listed_count': 0, 'created_at': 'Tue Sep 22 10:54:57 +0000 2020', 'favourites_count': 2341, 'utc_offset': None, 'time_zone': None, 'geo_enabled': False, 'verified': False, 'statuses_count': 87, 'lang': None, 'contributors_enabled': False, 'is_translator': False, 'is_translation_enabled': False, 'profile_background_color': 'F5F8FA', 'profile_background_image_url': None, 'profile_background_image_url_https': None, 'profile_background_tile': False, 'profile_image_url': 'http://pbs.twimg.com/profile_images/1308361097062146048/PI7NMoib_normal.jpg', 'profile_image_url_https': 'https://pbs.twimg.com/profile_images/1308361097062146048/PI7NMoib_normal.jpg', 'profile_link_color': '1DA1F2', 'profile_sidebar_border_color': 'C0DEED', 'profile_sidebar_fill_color': 'DDEEF6', 'profile_text_color': '333333', 'profile_use_background_image': True, 'has_extended_profile': True, 'default_profile': True, 'default_profile_image': False, 'following': False, 'follow_request_sent': False, 'notifications': False, 'translator_type': 'none'}, id=1308359034148278273, id_str='1308359034148278273', name='Escn Rcb', screen_name='EscnRcb', location='', description='', url=None, entities={'description': {'urls': []}}, protected=False, followers_count=4, friends_count=20, listed_count=0, created_at=datetime.datetime(2020, 9, 22, 10, 54, 57), favourites_count=2341, utc_offset=None, time_zone=None, geo_enabled=False, verified=False, statuses_count=87, lang=None, contributors_enabled=False, is_translator=False, is_translation_enabled=False, profile_background_color='F5F8FA', profile_background_image_url=None, profile_background_image_url_https=None, profile_background_tile=False, profile_image_url='http://pbs.twimg.com/profile_images/1308361097062146048/PI7NMoib_normal.jpg', profile_image_url_https='https://pbs.twimg.com/profile_images/1308361097062146048/PI7NMoib_normal.jpg', profile_link_color='1DA1F2', profile_sidebar_border_color='C0DEED', profile_sidebar_fill_color='DDEEF6', profile_text_color='333333', profile_use_background_image=True, has_extended_profile=True, default_profile=True, default_profile_image=False, following=False, follow_request_sent=False, notifications=False, translator_type='none'), user=User(_api=<tweepy.api.API object at 0x000002360C560F88>, _json={'id': 1308359034148278273, 'id_str': '1308359034148278273', 'name': 'Escn Rcb', 'screen_name': 'EscnRcb', 'location': '', 'description': '', 'url': None, 'entities': {'description': {'urls': []}}, 'protected': False, 'followers_count': 4, 'friends_count': 20, 'listed_count': 0, 'created_at': 'Tue Sep 22 10:54:57 +0000 2020', 'favourites_count': 2341, 'utc_offset': None, 'time_zone': None, 'geo_enabled': False, 'verified': False, 'statuses_count': 87, 'lang': None, 'contributors_enabled': False, 'is_translator': False, 'is_translation_enabled': False, 'profile_background_color': 'F5F8FA', 'profile_background_image_url': None, 'profile_background_image_url_https': None, 'profile_background_tile': False, 'profile_image_url': 'http://pbs.twimg.com/profile_images/1308361097062146048/PI7NMoib_normal.jpg', 'profile_image_url_https': 'https://pbs.twimg.com/profile_images/1308361097062146048/PI7NMoib_normal.jpg', 'profile_link_color': '1DA1F2', 'profile_sidebar_border_color': 'C0DEED', 'profile_sidebar_fill_color': 'DDEEF6', 'profile_text_color': '333333', 'profile_use_background_image': True, 'has_extended_profile': True, 'default_profile': True, 'default_profile_image': False, 'following': False, 'follow_request_sent': False, 'notifications': False, 'translator_type': 'none'}, id=1308359034148278273, id_str='1308359034148278273', name='Escn Rcb', screen_name='EscnRcb', location='', description='', url=None, entities={'description': {'urls': []}}, protected=False, followers_count=4, friends_count=20, listed_count=0, created_at=datetime.datetime(2020, 9, 22, 10, 54, 57), favourites_count=2341, utc_offset=None, time_zone=None, geo_enabled=False, verified=False, statuses_count=87, lang=None, contributors_enabled=False, is_translator=False, is_translation_enabled=False, profile_background_color='F5F8FA', profile_background_image_url=None, profile_background_image_url_https=None, profile_background_tile=False, profile_image_url='http://pbs.twimg.com/profile_images/1308361097062146048/PI7NMoib_normal.jpg', profile_image_url_https='https://pbs.twimg.com/profile_images/1308361097062146048/PI7NMoib_normal.jpg', profile_link_color='1DA1F2', profile_sidebar_border_color='C0DEED', profile_sidebar_fill_color='DDEEF6', profile_text_color='333333', profile_use_background_image=True, has_extended_profile=True, default_profile=True, default_profile_image=False, following=False, follow_request_sent=False, notifications=False, translator_type='none'), geo=None, coordinates=None, place=None, contributors=None, is_quote_status=False, retweet_count=0, favorite_count=0, favorited=False, retweeted=False, lang='en') \n",
      "\n",
      ".....................................\n",
      "\n",
      "Status(_api=<tweepy.api.API object at 0x000002360C560F88>, _json={'created_at': 'Mon Nov 09 09:24:01 +0000 2020', 'id': 1325730854400741376, 'id_str': '1325730854400741376', 'full_text': '@imVkohli I hope jab winning team ( LOL not RCB)  IPL trophy uthaegi tab patakhe nhi footenge or agar footenge to #viratkholi BCCI k khilaaf tweet karenge.', 'truncated': False, 'display_text_range': [10, 155], 'entities': {'hashtags': [{'text': 'viratkholi', 'indices': [114, 125]}], 'symbols': [], 'user_mentions': [{'screen_name': 'imVkohli', 'name': 'Virat Kohli', 'id': 71201743, 'id_str': '71201743', 'indices': [0, 9]}], 'urls': []}, 'metadata': {'iso_language_code': 'en', 'result_type': 'recent'}, 'source': '<a href=\"http://twitter.com/download/android\" rel=\"nofollow\">Twitter for Android</a>', 'in_reply_to_status_id': 920688168705421312, 'in_reply_to_status_id_str': '920688168705421312', 'in_reply_to_user_id': 71201743, 'in_reply_to_user_id_str': '71201743', 'in_reply_to_screen_name': 'imVkohli', 'user': {'id': 927535474373099521, 'id_str': '927535474373099521', 'name': '︎ ︎ ︎', 'screen_name': 'logicalgabbar', 'location': '', 'description': 'atheist, hypocrite,Woke, liberal, leftist, economist, feminist, pharmacist \\n #Gattaparty', 'url': None, 'entities': {'description': {'urls': []}}, 'protected': False, 'followers_count': 2615, 'friends_count': 141, 'listed_count': 4, 'created_at': 'Mon Nov 06 13:57:44 +0000 2017', 'favourites_count': 45943, 'utc_offset': None, 'time_zone': None, 'geo_enabled': True, 'verified': False, 'statuses_count': 42244, 'lang': None, 'contributors_enabled': False, 'is_translator': False, 'is_translation_enabled': False, 'profile_background_color': 'F5F8FA', 'profile_background_image_url': None, 'profile_background_image_url_https': None, 'profile_background_tile': False, 'profile_image_url': 'http://pbs.twimg.com/profile_images/1322927952162553856/DCBBDIx8_normal.jpg', 'profile_image_url_https': 'https://pbs.twimg.com/profile_images/1322927952162553856/DCBBDIx8_normal.jpg', 'profile_banner_url': 'https://pbs.twimg.com/profile_banners/927535474373099521/1602168301', 'profile_link_color': '1DA1F2', 'profile_sidebar_border_color': 'C0DEED', 'profile_sidebar_fill_color': 'DDEEF6', 'profile_text_color': '333333', 'profile_use_background_image': True, 'has_extended_profile': True, 'default_profile': True, 'default_profile_image': False, 'following': False, 'follow_request_sent': False, 'notifications': False, 'translator_type': 'none'}, 'geo': None, 'coordinates': None, 'place': None, 'contributors': None, 'is_quote_status': False, 'retweet_count': 0, 'favorite_count': 0, 'favorited': False, 'retweeted': False, 'lang': 'en'}, created_at=datetime.datetime(2020, 11, 9, 9, 24, 1), id=1325730854400741376, id_str='1325730854400741376', full_text='@imVkohli I hope jab winning team ( LOL not RCB)  IPL trophy uthaegi tab patakhe nhi footenge or agar footenge to #viratkholi BCCI k khilaaf tweet karenge.', truncated=False, display_text_range=[10, 155], entities={'hashtags': [{'text': 'viratkholi', 'indices': [114, 125]}], 'symbols': [], 'user_mentions': [{'screen_name': 'imVkohli', 'name': 'Virat Kohli', 'id': 71201743, 'id_str': '71201743', 'indices': [0, 9]}], 'urls': []}, metadata={'iso_language_code': 'en', 'result_type': 'recent'}, source='Twitter for Android', source_url='http://twitter.com/download/android', in_reply_to_status_id=920688168705421312, in_reply_to_status_id_str='920688168705421312', in_reply_to_user_id=71201743, in_reply_to_user_id_str='71201743', in_reply_to_screen_name='imVkohli', author=User(_api=<tweepy.api.API object at 0x000002360C560F88>, _json={'id': 927535474373099521, 'id_str': '927535474373099521', 'name': '︎ ︎ ︎', 'screen_name': 'logicalgabbar', 'location': '', 'description': 'atheist, hypocrite,Woke, liberal, leftist, economist, feminist, pharmacist \\n #Gattaparty', 'url': None, 'entities': {'description': {'urls': []}}, 'protected': False, 'followers_count': 2615, 'friends_count': 141, 'listed_count': 4, 'created_at': 'Mon Nov 06 13:57:44 +0000 2017', 'favourites_count': 45943, 'utc_offset': None, 'time_zone': None, 'geo_enabled': True, 'verified': False, 'statuses_count': 42244, 'lang': None, 'contributors_enabled': False, 'is_translator': False, 'is_translation_enabled': False, 'profile_background_color': 'F5F8FA', 'profile_background_image_url': None, 'profile_background_image_url_https': None, 'profile_background_tile': False, 'profile_image_url': 'http://pbs.twimg.com/profile_images/1322927952162553856/DCBBDIx8_normal.jpg', 'profile_image_url_https': 'https://pbs.twimg.com/profile_images/1322927952162553856/DCBBDIx8_normal.jpg', 'profile_banner_url': 'https://pbs.twimg.com/profile_banners/927535474373099521/1602168301', 'profile_link_color': '1DA1F2', 'profile_sidebar_border_color': 'C0DEED', 'profile_sidebar_fill_color': 'DDEEF6', 'profile_text_color': '333333', 'profile_use_background_image': True, 'has_extended_profile': True, 'default_profile': True, 'default_profile_image': False, 'following': False, 'follow_request_sent': False, 'notifications': False, 'translator_type': 'none'}, id=927535474373099521, id_str='927535474373099521', name='︎ ︎ ︎', screen_name='logicalgabbar', location='', description='atheist, hypocrite,Woke, liberal, leftist, economist, feminist, pharmacist \\n #Gattaparty', url=None, entities={'description': {'urls': []}}, protected=False, followers_count=2615, friends_count=141, listed_count=4, created_at=datetime.datetime(2017, 11, 6, 13, 57, 44), favourites_count=45943, utc_offset=None, time_zone=None, geo_enabled=True, verified=False, statuses_count=42244, lang=None, contributors_enabled=False, is_translator=False, is_translation_enabled=False, profile_background_color='F5F8FA', profile_background_image_url=None, profile_background_image_url_https=None, profile_background_tile=False, profile_image_url='http://pbs.twimg.com/profile_images/1322927952162553856/DCBBDIx8_normal.jpg', profile_image_url_https='https://pbs.twimg.com/profile_images/1322927952162553856/DCBBDIx8_normal.jpg', profile_banner_url='https://pbs.twimg.com/profile_banners/927535474373099521/1602168301', profile_link_color='1DA1F2', profile_sidebar_border_color='C0DEED', profile_sidebar_fill_color='DDEEF6', profile_text_color='333333', profile_use_background_image=True, has_extended_profile=True, default_profile=True, default_profile_image=False, following=False, follow_request_sent=False, notifications=False, translator_type='none'), user=User(_api=<tweepy.api.API object at 0x000002360C560F88>, _json={'id': 927535474373099521, 'id_str': '927535474373099521', 'name': '︎ ︎ ︎', 'screen_name': 'logicalgabbar', 'location': '', 'description': 'atheist, hypocrite,Woke, liberal, leftist, economist, feminist, pharmacist \\n #Gattaparty', 'url': None, 'entities': {'description': {'urls': []}}, 'protected': False, 'followers_count': 2615, 'friends_count': 141, 'listed_count': 4, 'created_at': 'Mon Nov 06 13:57:44 +0000 2017', 'favourites_count': 45943, 'utc_offset': None, 'time_zone': None, 'geo_enabled': True, 'verified': False, 'statuses_count': 42244, 'lang': None, 'contributors_enabled': False, 'is_translator': False, 'is_translation_enabled': False, 'profile_background_color': 'F5F8FA', 'profile_background_image_url': None, 'profile_background_image_url_https': None, 'profile_background_tile': False, 'profile_image_url': 'http://pbs.twimg.com/profile_images/1322927952162553856/DCBBDIx8_normal.jpg', 'profile_image_url_https': 'https://pbs.twimg.com/profile_images/1322927952162553856/DCBBDIx8_normal.jpg', 'profile_banner_url': 'https://pbs.twimg.com/profile_banners/927535474373099521/1602168301', 'profile_link_color': '1DA1F2', 'profile_sidebar_border_color': 'C0DEED', 'profile_sidebar_fill_color': 'DDEEF6', 'profile_text_color': '333333', 'profile_use_background_image': True, 'has_extended_profile': True, 'default_profile': True, 'default_profile_image': False, 'following': False, 'follow_request_sent': False, 'notifications': False, 'translator_type': 'none'}, id=927535474373099521, id_str='927535474373099521', name='︎ ︎ ︎', screen_name='logicalgabbar', location='', description='atheist, hypocrite,Woke, liberal, leftist, economist, feminist, pharmacist \\n #Gattaparty', url=None, entities={'description': {'urls': []}}, protected=False, followers_count=2615, friends_count=141, listed_count=4, created_at=datetime.datetime(2017, 11, 6, 13, 57, 44), favourites_count=45943, utc_offset=None, time_zone=None, geo_enabled=True, verified=False, statuses_count=42244, lang=None, contributors_enabled=False, is_translator=False, is_translation_enabled=False, profile_background_color='F5F8FA', profile_background_image_url=None, profile_background_image_url_https=None, profile_background_tile=False, profile_image_url='http://pbs.twimg.com/profile_images/1322927952162553856/DCBBDIx8_normal.jpg', profile_image_url_https='https://pbs.twimg.com/profile_images/1322927952162553856/DCBBDIx8_normal.jpg', profile_banner_url='https://pbs.twimg.com/profile_banners/927535474373099521/1602168301', profile_link_color='1DA1F2', profile_sidebar_border_color='C0DEED', profile_sidebar_fill_color='DDEEF6', profile_text_color='333333', profile_use_background_image=True, has_extended_profile=True, default_profile=True, default_profile_image=False, following=False, follow_request_sent=False, notifications=False, translator_type='none'), geo=None, coordinates=None, place=None, contributors=None, is_quote_status=False, retweet_count=0, favorite_count=0, favorited=False, retweeted=False, lang='en') \n",
      "\n",
      ".....................................\n",
      "\n",
      "Status(_api=<tweepy.api.API object at 0x000002360C560F88>, _json={'created_at': 'Mon Nov 09 09:17:31 +0000 2020', 'id': 1325729219939241984, 'id_str': '1325729219939241984', 'full_text': '@karanrathod5818 @imVkohli @PrithviShaw Kohli as a captain has good winning percentage in india\\nBut in ipl bad percentege\\nBecause in rcb complete team spoiled\\nKohli done a good captaincy\\nCricket is a game with complete team effort\\nIn rcb total team spoiled\\nIn 2018 2017 2016  kohli played so well', 'truncated': False, 'display_text_range': [40, 296], 'entities': {'hashtags': [], 'symbols': [], 'user_mentions': [{'screen_name': 'karanrathod5818', 'name': 'Karan Rathod', 'id': 2933182356, 'id_str': '2933182356', 'indices': [0, 16]}, {'screen_name': 'imVkohli', 'name': 'Virat Kohli', 'id': 71201743, 'id_str': '71201743', 'indices': [17, 26]}, {'screen_name': 'PrithviShaw', 'name': 'Prithvi Shaw', 'id': 818340628589412352, 'id_str': '818340628589412352', 'indices': [27, 39]}], 'urls': []}, 'metadata': {'iso_language_code': 'en', 'result_type': 'recent'}, 'source': '<a href=\"http://twitter.com/download/android\" rel=\"nofollow\">Twitter for Android</a>', 'in_reply_to_status_id': 1325676832163655680, 'in_reply_to_status_id_str': '1325676832163655680', 'in_reply_to_user_id': 2933182356, 'in_reply_to_user_id_str': '2933182356', 'in_reply_to_screen_name': 'karanrathod5818', 'user': {'id': 1266731683773943808, 'id_str': '1266731683773943808', 'name': 'Sandeep dhfm', 'screen_name': 'Sandeep49743141', 'location': '', 'description': \"Dhfm's\", 'url': None, 'entities': {'description': {'urls': []}}, 'protected': False, 'followers_count': 201, 'friends_count': 397, 'listed_count': 0, 'created_at': 'Sat May 30 14:02:32 +0000 2020', 'favourites_count': 45, 'utc_offset': None, 'time_zone': None, 'geo_enabled': False, 'verified': False, 'statuses_count': 651, 'lang': None, 'contributors_enabled': False, 'is_translator': False, 'is_translation_enabled': False, 'profile_background_color': 'F5F8FA', 'profile_background_image_url': None, 'profile_background_image_url_https': None, 'profile_background_tile': False, 'profile_image_url': 'http://pbs.twimg.com/profile_images/1266732843809402881/_aiN0ck-_normal.jpg', 'profile_image_url_https': 'https://pbs.twimg.com/profile_images/1266732843809402881/_aiN0ck-_normal.jpg', 'profile_link_color': '1DA1F2', 'profile_sidebar_border_color': 'C0DEED', 'profile_sidebar_fill_color': 'DDEEF6', 'profile_text_color': '333333', 'profile_use_background_image': True, 'has_extended_profile': False, 'default_profile': True, 'default_profile_image': False, 'following': False, 'follow_request_sent': False, 'notifications': False, 'translator_type': 'none'}, 'geo': None, 'coordinates': None, 'place': None, 'contributors': None, 'is_quote_status': False, 'retweet_count': 0, 'favorite_count': 0, 'favorited': False, 'retweeted': False, 'lang': 'en'}, created_at=datetime.datetime(2020, 11, 9, 9, 17, 31), id=1325729219939241984, id_str='1325729219939241984', full_text='@karanrathod5818 @imVkohli @PrithviShaw Kohli as a captain has good winning percentage in india\\nBut in ipl bad percentege\\nBecause in rcb complete team spoiled\\nKohli done a good captaincy\\nCricket is a game with complete team effort\\nIn rcb total team spoiled\\nIn 2018 2017 2016  kohli played so well', truncated=False, display_text_range=[40, 296], entities={'hashtags': [], 'symbols': [], 'user_mentions': [{'screen_name': 'karanrathod5818', 'name': 'Karan Rathod', 'id': 2933182356, 'id_str': '2933182356', 'indices': [0, 16]}, {'screen_name': 'imVkohli', 'name': 'Virat Kohli', 'id': 71201743, 'id_str': '71201743', 'indices': [17, 26]}, {'screen_name': 'PrithviShaw', 'name': 'Prithvi Shaw', 'id': 818340628589412352, 'id_str': '818340628589412352', 'indices': [27, 39]}], 'urls': []}, metadata={'iso_language_code': 'en', 'result_type': 'recent'}, source='Twitter for Android', source_url='http://twitter.com/download/android', in_reply_to_status_id=1325676832163655680, in_reply_to_status_id_str='1325676832163655680', in_reply_to_user_id=2933182356, in_reply_to_user_id_str='2933182356', in_reply_to_screen_name='karanrathod5818', author=User(_api=<tweepy.api.API object at 0x000002360C560F88>, _json={'id': 1266731683773943808, 'id_str': '1266731683773943808', 'name': 'Sandeep dhfm', 'screen_name': 'Sandeep49743141', 'location': '', 'description': \"Dhfm's\", 'url': None, 'entities': {'description': {'urls': []}}, 'protected': False, 'followers_count': 201, 'friends_count': 397, 'listed_count': 0, 'created_at': 'Sat May 30 14:02:32 +0000 2020', 'favourites_count': 45, 'utc_offset': None, 'time_zone': None, 'geo_enabled': False, 'verified': False, 'statuses_count': 651, 'lang': None, 'contributors_enabled': False, 'is_translator': False, 'is_translation_enabled': False, 'profile_background_color': 'F5F8FA', 'profile_background_image_url': None, 'profile_background_image_url_https': None, 'profile_background_tile': False, 'profile_image_url': 'http://pbs.twimg.com/profile_images/1266732843809402881/_aiN0ck-_normal.jpg', 'profile_image_url_https': 'https://pbs.twimg.com/profile_images/1266732843809402881/_aiN0ck-_normal.jpg', 'profile_link_color': '1DA1F2', 'profile_sidebar_border_color': 'C0DEED', 'profile_sidebar_fill_color': 'DDEEF6', 'profile_text_color': '333333', 'profile_use_background_image': True, 'has_extended_profile': False, 'default_profile': True, 'default_profile_image': False, 'following': False, 'follow_request_sent': False, 'notifications': False, 'translator_type': 'none'}, id=1266731683773943808, id_str='1266731683773943808', name='Sandeep dhfm', screen_name='Sandeep49743141', location='', description=\"Dhfm's\", url=None, entities={'description': {'urls': []}}, protected=False, followers_count=201, friends_count=397, listed_count=0, created_at=datetime.datetime(2020, 5, 30, 14, 2, 32), favourites_count=45, utc_offset=None, time_zone=None, geo_enabled=False, verified=False, statuses_count=651, lang=None, contributors_enabled=False, is_translator=False, is_translation_enabled=False, profile_background_color='F5F8FA', profile_background_image_url=None, profile_background_image_url_https=None, profile_background_tile=False, profile_image_url='http://pbs.twimg.com/profile_images/1266732843809402881/_aiN0ck-_normal.jpg', profile_image_url_https='https://pbs.twimg.com/profile_images/1266732843809402881/_aiN0ck-_normal.jpg', profile_link_color='1DA1F2', profile_sidebar_border_color='C0DEED', profile_sidebar_fill_color='DDEEF6', profile_text_color='333333', profile_use_background_image=True, has_extended_profile=False, default_profile=True, default_profile_image=False, following=False, follow_request_sent=False, notifications=False, translator_type='none'), user=User(_api=<tweepy.api.API object at 0x000002360C560F88>, _json={'id': 1266731683773943808, 'id_str': '1266731683773943808', 'name': 'Sandeep dhfm', 'screen_name': 'Sandeep49743141', 'location': '', 'description': \"Dhfm's\", 'url': None, 'entities': {'description': {'urls': []}}, 'protected': False, 'followers_count': 201, 'friends_count': 397, 'listed_count': 0, 'created_at': 'Sat May 30 14:02:32 +0000 2020', 'favourites_count': 45, 'utc_offset': None, 'time_zone': None, 'geo_enabled': False, 'verified': False, 'statuses_count': 651, 'lang': None, 'contributors_enabled': False, 'is_translator': False, 'is_translation_enabled': False, 'profile_background_color': 'F5F8FA', 'profile_background_image_url': None, 'profile_background_image_url_https': None, 'profile_background_tile': False, 'profile_image_url': 'http://pbs.twimg.com/profile_images/1266732843809402881/_aiN0ck-_normal.jpg', 'profile_image_url_https': 'https://pbs.twimg.com/profile_images/1266732843809402881/_aiN0ck-_normal.jpg', 'profile_link_color': '1DA1F2', 'profile_sidebar_border_color': 'C0DEED', 'profile_sidebar_fill_color': 'DDEEF6', 'profile_text_color': '333333', 'profile_use_background_image': True, 'has_extended_profile': False, 'default_profile': True, 'default_profile_image': False, 'following': False, 'follow_request_sent': False, 'notifications': False, 'translator_type': 'none'}, id=1266731683773943808, id_str='1266731683773943808', name='Sandeep dhfm', screen_name='Sandeep49743141', location='', description=\"Dhfm's\", url=None, entities={'description': {'urls': []}}, protected=False, followers_count=201, friends_count=397, listed_count=0, created_at=datetime.datetime(2020, 5, 30, 14, 2, 32), favourites_count=45, utc_offset=None, time_zone=None, geo_enabled=False, verified=False, statuses_count=651, lang=None, contributors_enabled=False, is_translator=False, is_translation_enabled=False, profile_background_color='F5F8FA', profile_background_image_url=None, profile_background_image_url_https=None, profile_background_tile=False, profile_image_url='http://pbs.twimg.com/profile_images/1266732843809402881/_aiN0ck-_normal.jpg', profile_image_url_https='https://pbs.twimg.com/profile_images/1266732843809402881/_aiN0ck-_normal.jpg', profile_link_color='1DA1F2', profile_sidebar_border_color='C0DEED', profile_sidebar_fill_color='DDEEF6', profile_text_color='333333', profile_use_background_image=True, has_extended_profile=False, default_profile=True, default_profile_image=False, following=False, follow_request_sent=False, notifications=False, translator_type='none'), geo=None, coordinates=None, place=None, contributors=None, is_quote_status=False, retweet_count=0, favorite_count=0, favorited=False, retweeted=False, lang='en') \n",
      "\n",
      ".....................................\n",
      "\n",
      "Status(_api=<tweepy.api.API object at 0x000002360C560F88>, _json={'created_at': 'Mon Nov 09 06:06:51 +0000 2020', 'id': 1325681236057092096, 'id_str': '1325681236057092096', 'full_text': '@ESPNcricinfo Over dependence on 2 batsmen hurt them. Bad squad selection hurt them. Lack of match winning allrounders hurt them. Yr after yr .. @RCBTweets don’t learn &amp; will nvr win @IPL till they gt it correct. R they sleeping during auctions to pkp gd playrs? #RCB @bhogleharsha @imVkohli', 'truncated': False, 'display_text_range': [14, 295], 'entities': {'hashtags': [{'text': 'RCB', 'indices': [267, 271]}], 'symbols': [], 'user_mentions': [{'screen_name': 'ESPNcricinfo', 'name': 'ESPNcricinfo', 'id': 16542390, 'id_str': '16542390', 'indices': [0, 13]}, {'screen_name': 'RCBTweets', 'name': 'Royal Challengers Bangalore', 'id': 70931004, 'id_str': '70931004', 'indices': [145, 155]}, {'screen_name': 'IPL', 'name': 'IndianPremierLeague', 'id': 15639696, 'id_str': '15639696', 'indices': [187, 191]}, {'screen_name': 'bhogleharsha', 'name': 'Harsha Bhogle', 'id': 78941611, 'id_str': '78941611', 'indices': [272, 285]}, {'screen_name': 'imVkohli', 'name': 'Virat Kohli', 'id': 71201743, 'id_str': '71201743', 'indices': [286, 295]}], 'urls': []}, 'metadata': {'iso_language_code': 'en', 'result_type': 'recent'}, 'source': '<a href=\"http://twitter.com/download/iphone\" rel=\"nofollow\">Twitter for iPhone</a>', 'in_reply_to_status_id': 1325622888708386817, 'in_reply_to_status_id_str': '1325622888708386817', 'in_reply_to_user_id': 16542390, 'in_reply_to_user_id_str': '16542390', 'in_reply_to_screen_name': 'ESPNcricinfo', 'user': {'id': 113470410, 'id_str': '113470410', 'name': 'Mangoman', 'screen_name': 'alphonsolife', 'location': '', 'description': '', 'url': None, 'entities': {'description': {'urls': []}}, 'protected': False, 'followers_count': 35, 'friends_count': 182, 'listed_count': 0, 'created_at': 'Thu Feb 11 21:37:56 +0000 2010', 'favourites_count': 9878, 'utc_offset': None, 'time_zone': None, 'geo_enabled': False, 'verified': False, 'statuses_count': 9319, 'lang': None, 'contributors_enabled': False, 'is_translator': False, 'is_translation_enabled': False, 'profile_background_color': 'EDECE9', 'profile_background_image_url': 'http://abs.twimg.com/images/themes/theme3/bg.gif', 'profile_background_image_url_https': 'https://abs.twimg.com/images/themes/theme3/bg.gif', 'profile_background_tile': False, 'profile_image_url': 'http://pbs.twimg.com/profile_images/839680991023132676/rY8W2bay_normal.jpg', 'profile_image_url_https': 'https://pbs.twimg.com/profile_images/839680991023132676/rY8W2bay_normal.jpg', 'profile_banner_url': 'https://pbs.twimg.com/profile_banners/113470410/1514880985', 'profile_link_color': '088253', 'profile_sidebar_border_color': 'D3D2CF', 'profile_sidebar_fill_color': 'E3E2DE', 'profile_text_color': '634047', 'profile_use_background_image': True, 'has_extended_profile': False, 'default_profile': False, 'default_profile_image': False, 'following': False, 'follow_request_sent': False, 'notifications': False, 'translator_type': 'none'}, 'geo': None, 'coordinates': None, 'place': None, 'contributors': None, 'is_quote_status': False, 'retweet_count': 0, 'favorite_count': 0, 'favorited': False, 'retweeted': False, 'lang': 'en'}, created_at=datetime.datetime(2020, 11, 9, 6, 6, 51), id=1325681236057092096, id_str='1325681236057092096', full_text='@ESPNcricinfo Over dependence on 2 batsmen hurt them. Bad squad selection hurt them. Lack of match winning allrounders hurt them. Yr after yr .. @RCBTweets don’t learn &amp; will nvr win @IPL till they gt it correct. R they sleeping during auctions to pkp gd playrs? #RCB @bhogleharsha @imVkohli', truncated=False, display_text_range=[14, 295], entities={'hashtags': [{'text': 'RCB', 'indices': [267, 271]}], 'symbols': [], 'user_mentions': [{'screen_name': 'ESPNcricinfo', 'name': 'ESPNcricinfo', 'id': 16542390, 'id_str': '16542390', 'indices': [0, 13]}, {'screen_name': 'RCBTweets', 'name': 'Royal Challengers Bangalore', 'id': 70931004, 'id_str': '70931004', 'indices': [145, 155]}, {'screen_name': 'IPL', 'name': 'IndianPremierLeague', 'id': 15639696, 'id_str': '15639696', 'indices': [187, 191]}, {'screen_name': 'bhogleharsha', 'name': 'Harsha Bhogle', 'id': 78941611, 'id_str': '78941611', 'indices': [272, 285]}, {'screen_name': 'imVkohli', 'name': 'Virat Kohli', 'id': 71201743, 'id_str': '71201743', 'indices': [286, 295]}], 'urls': []}, metadata={'iso_language_code': 'en', 'result_type': 'recent'}, source='Twitter for iPhone', source_url='http://twitter.com/download/iphone', in_reply_to_status_id=1325622888708386817, in_reply_to_status_id_str='1325622888708386817', in_reply_to_user_id=16542390, in_reply_to_user_id_str='16542390', in_reply_to_screen_name='ESPNcricinfo', author=User(_api=<tweepy.api.API object at 0x000002360C560F88>, _json={'id': 113470410, 'id_str': '113470410', 'name': 'Mangoman', 'screen_name': 'alphonsolife', 'location': '', 'description': '', 'url': None, 'entities': {'description': {'urls': []}}, 'protected': False, 'followers_count': 35, 'friends_count': 182, 'listed_count': 0, 'created_at': 'Thu Feb 11 21:37:56 +0000 2010', 'favourites_count': 9878, 'utc_offset': None, 'time_zone': None, 'geo_enabled': False, 'verified': False, 'statuses_count': 9319, 'lang': None, 'contributors_enabled': False, 'is_translator': False, 'is_translation_enabled': False, 'profile_background_color': 'EDECE9', 'profile_background_image_url': 'http://abs.twimg.com/images/themes/theme3/bg.gif', 'profile_background_image_url_https': 'https://abs.twimg.com/images/themes/theme3/bg.gif', 'profile_background_tile': False, 'profile_image_url': 'http://pbs.twimg.com/profile_images/839680991023132676/rY8W2bay_normal.jpg', 'profile_image_url_https': 'https://pbs.twimg.com/profile_images/839680991023132676/rY8W2bay_normal.jpg', 'profile_banner_url': 'https://pbs.twimg.com/profile_banners/113470410/1514880985', 'profile_link_color': '088253', 'profile_sidebar_border_color': 'D3D2CF', 'profile_sidebar_fill_color': 'E3E2DE', 'profile_text_color': '634047', 'profile_use_background_image': True, 'has_extended_profile': False, 'default_profile': False, 'default_profile_image': False, 'following': False, 'follow_request_sent': False, 'notifications': False, 'translator_type': 'none'}, id=113470410, id_str='113470410', name='Mangoman', screen_name='alphonsolife', location='', description='', url=None, entities={'description': {'urls': []}}, protected=False, followers_count=35, friends_count=182, listed_count=0, created_at=datetime.datetime(2010, 2, 11, 21, 37, 56), favourites_count=9878, utc_offset=None, time_zone=None, geo_enabled=False, verified=False, statuses_count=9319, lang=None, contributors_enabled=False, is_translator=False, is_translation_enabled=False, profile_background_color='EDECE9', profile_background_image_url='http://abs.twimg.com/images/themes/theme3/bg.gif', profile_background_image_url_https='https://abs.twimg.com/images/themes/theme3/bg.gif', profile_background_tile=False, profile_image_url='http://pbs.twimg.com/profile_images/839680991023132676/rY8W2bay_normal.jpg', profile_image_url_https='https://pbs.twimg.com/profile_images/839680991023132676/rY8W2bay_normal.jpg', profile_banner_url='https://pbs.twimg.com/profile_banners/113470410/1514880985', profile_link_color='088253', profile_sidebar_border_color='D3D2CF', profile_sidebar_fill_color='E3E2DE', profile_text_color='634047', profile_use_background_image=True, has_extended_profile=False, default_profile=False, default_profile_image=False, following=False, follow_request_sent=False, notifications=False, translator_type='none'), user=User(_api=<tweepy.api.API object at 0x000002360C560F88>, _json={'id': 113470410, 'id_str': '113470410', 'name': 'Mangoman', 'screen_name': 'alphonsolife', 'location': '', 'description': '', 'url': None, 'entities': {'description': {'urls': []}}, 'protected': False, 'followers_count': 35, 'friends_count': 182, 'listed_count': 0, 'created_at': 'Thu Feb 11 21:37:56 +0000 2010', 'favourites_count': 9878, 'utc_offset': None, 'time_zone': None, 'geo_enabled': False, 'verified': False, 'statuses_count': 9319, 'lang': None, 'contributors_enabled': False, 'is_translator': False, 'is_translation_enabled': False, 'profile_background_color': 'EDECE9', 'profile_background_image_url': 'http://abs.twimg.com/images/themes/theme3/bg.gif', 'profile_background_image_url_https': 'https://abs.twimg.com/images/themes/theme3/bg.gif', 'profile_background_tile': False, 'profile_image_url': 'http://pbs.twimg.com/profile_images/839680991023132676/rY8W2bay_normal.jpg', 'profile_image_url_https': 'https://pbs.twimg.com/profile_images/839680991023132676/rY8W2bay_normal.jpg', 'profile_banner_url': 'https://pbs.twimg.com/profile_banners/113470410/1514880985', 'profile_link_color': '088253', 'profile_sidebar_border_color': 'D3D2CF', 'profile_sidebar_fill_color': 'E3E2DE', 'profile_text_color': '634047', 'profile_use_background_image': True, 'has_extended_profile': False, 'default_profile': False, 'default_profile_image': False, 'following': False, 'follow_request_sent': False, 'notifications': False, 'translator_type': 'none'}, id=113470410, id_str='113470410', name='Mangoman', screen_name='alphonsolife', location='', description='', url=None, entities={'description': {'urls': []}}, protected=False, followers_count=35, friends_count=182, listed_count=0, created_at=datetime.datetime(2010, 2, 11, 21, 37, 56), favourites_count=9878, utc_offset=None, time_zone=None, geo_enabled=False, verified=False, statuses_count=9319, lang=None, contributors_enabled=False, is_translator=False, is_translation_enabled=False, profile_background_color='EDECE9', profile_background_image_url='http://abs.twimg.com/images/themes/theme3/bg.gif', profile_background_image_url_https='https://abs.twimg.com/images/themes/theme3/bg.gif', profile_background_tile=False, profile_image_url='http://pbs.twimg.com/profile_images/839680991023132676/rY8W2bay_normal.jpg', profile_image_url_https='https://pbs.twimg.com/profile_images/839680991023132676/rY8W2bay_normal.jpg', profile_banner_url='https://pbs.twimg.com/profile_banners/113470410/1514880985', profile_link_color='088253', profile_sidebar_border_color='D3D2CF', profile_sidebar_fill_color='E3E2DE', profile_text_color='634047', profile_use_background_image=True, has_extended_profile=False, default_profile=False, default_profile_image=False, following=False, follow_request_sent=False, notifications=False, translator_type='none'), geo=None, coordinates=None, place=None, contributors=None, is_quote_status=False, retweet_count=0, favorite_count=0, favorited=False, retweeted=False, lang='en') \n",
      "\n",
      ".....................................\n",
      "\n",
      "Status(_api=<tweepy.api.API object at 0x000002360C560F88>, _json={'created_at': 'Mon Nov 09 00:23:58 +0000 2020', 'id': 1325594947349667841, 'id_str': '1325594947349667841', 'full_text': '@einsteinfc18 @Maha30023 @moviesadmirer Come on man. That was pure bullshit. These ipl teams plays for trophies. Even virat himself said it many times. But these shameless rcb fans only cry about records instead trophies. Other teams are creating records by winning more trophies but for them😂Anyway  ✌️', 'truncated': False, 'display_text_range': [40, 303], 'entities': {'hashtags': [], 'symbols': [], 'user_mentions': [{'screen_name': 'einsteinfc18', 'name': '.', 'id': 3981666252, 'id_str': '3981666252', 'indices': [0, 13]}, {'screen_name': 'Maha30023', 'name': 'Mahathi M', 'id': 918506970205765637, 'id_str': '918506970205765637', 'indices': [14, 24]}, {'screen_name': 'moviesadmirer', 'name': 'Cinema Therapy', 'id': 1196912036992544768, 'id_str': '1196912036992544768', 'indices': [25, 39]}], 'urls': []}, 'metadata': {'iso_language_code': 'en', 'result_type': 'recent'}, 'source': '<a href=\"http://twitter.com/download/iphone\" rel=\"nofollow\">Twitter for iPhone</a>', 'in_reply_to_status_id': 1325593246148354054, 'in_reply_to_status_id_str': '1325593246148354054', 'in_reply_to_user_id': 3981666252, 'in_reply_to_user_id_str': '3981666252', 'in_reply_to_screen_name': 'einsteinfc18', 'user': {'id': 3041513390, 'id_str': '3041513390', 'name': 'gokzhere', 'screen_name': 'blues_CR7', 'location': 'London', 'description': 'Bleeds Blue | Fan account', 'url': None, 'entities': {'description': {'urls': []}}, 'protected': False, 'followers_count': 2714, 'friends_count': 411, 'listed_count': 6, 'created_at': 'Wed Feb 25 15:33:44 +0000 2015', 'favourites_count': 38051, 'utc_offset': None, 'time_zone': None, 'geo_enabled': True, 'verified': False, 'statuses_count': 8459, 'lang': None, 'contributors_enabled': False, 'is_translator': False, 'is_translation_enabled': False, 'profile_background_color': 'FFCC4D', 'profile_background_image_url': 'http://abs.twimg.com/images/themes/theme1/bg.png', 'profile_background_image_url_https': 'https://abs.twimg.com/images/themes/theme1/bg.png', 'profile_background_tile': False, 'profile_image_url': 'http://pbs.twimg.com/profile_images/1293118649973186561/B11MzK-U_normal.jpg', 'profile_image_url_https': 'https://pbs.twimg.com/profile_images/1293118649973186561/B11MzK-U_normal.jpg', 'profile_banner_url': 'https://pbs.twimg.com/profile_banners/3041513390/1596728403', 'profile_link_color': '9266CC', 'profile_sidebar_border_color': '000000', 'profile_sidebar_fill_color': '000000', 'profile_text_color': '000000', 'profile_use_background_image': False, 'has_extended_profile': True, 'default_profile': False, 'default_profile_image': False, 'following': False, 'follow_request_sent': False, 'notifications': False, 'translator_type': 'none'}, 'geo': None, 'coordinates': None, 'place': None, 'contributors': None, 'is_quote_status': False, 'retweet_count': 0, 'favorite_count': 1, 'favorited': False, 'retweeted': False, 'lang': 'en'}, created_at=datetime.datetime(2020, 11, 9, 0, 23, 58), id=1325594947349667841, id_str='1325594947349667841', full_text='@einsteinfc18 @Maha30023 @moviesadmirer Come on man. That was pure bullshit. These ipl teams plays for trophies. Even virat himself said it many times. But these shameless rcb fans only cry about records instead trophies. Other teams are creating records by winning more trophies but for them😂Anyway  ✌️', truncated=False, display_text_range=[40, 303], entities={'hashtags': [], 'symbols': [], 'user_mentions': [{'screen_name': 'einsteinfc18', 'name': '.', 'id': 3981666252, 'id_str': '3981666252', 'indices': [0, 13]}, {'screen_name': 'Maha30023', 'name': 'Mahathi M', 'id': 918506970205765637, 'id_str': '918506970205765637', 'indices': [14, 24]}, {'screen_name': 'moviesadmirer', 'name': 'Cinema Therapy', 'id': 1196912036992544768, 'id_str': '1196912036992544768', 'indices': [25, 39]}], 'urls': []}, metadata={'iso_language_code': 'en', 'result_type': 'recent'}, source='Twitter for iPhone', source_url='http://twitter.com/download/iphone', in_reply_to_status_id=1325593246148354054, in_reply_to_status_id_str='1325593246148354054', in_reply_to_user_id=3981666252, in_reply_to_user_id_str='3981666252', in_reply_to_screen_name='einsteinfc18', author=User(_api=<tweepy.api.API object at 0x000002360C560F88>, _json={'id': 3041513390, 'id_str': '3041513390', 'name': 'gokzhere', 'screen_name': 'blues_CR7', 'location': 'London', 'description': 'Bleeds Blue | Fan account', 'url': None, 'entities': {'description': {'urls': []}}, 'protected': False, 'followers_count': 2714, 'friends_count': 411, 'listed_count': 6, 'created_at': 'Wed Feb 25 15:33:44 +0000 2015', 'favourites_count': 38051, 'utc_offset': None, 'time_zone': None, 'geo_enabled': True, 'verified': False, 'statuses_count': 8459, 'lang': None, 'contributors_enabled': False, 'is_translator': False, 'is_translation_enabled': False, 'profile_background_color': 'FFCC4D', 'profile_background_image_url': 'http://abs.twimg.com/images/themes/theme1/bg.png', 'profile_background_image_url_https': 'https://abs.twimg.com/images/themes/theme1/bg.png', 'profile_background_tile': False, 'profile_image_url': 'http://pbs.twimg.com/profile_images/1293118649973186561/B11MzK-U_normal.jpg', 'profile_image_url_https': 'https://pbs.twimg.com/profile_images/1293118649973186561/B11MzK-U_normal.jpg', 'profile_banner_url': 'https://pbs.twimg.com/profile_banners/3041513390/1596728403', 'profile_link_color': '9266CC', 'profile_sidebar_border_color': '000000', 'profile_sidebar_fill_color': '000000', 'profile_text_color': '000000', 'profile_use_background_image': False, 'has_extended_profile': True, 'default_profile': False, 'default_profile_image': False, 'following': False, 'follow_request_sent': False, 'notifications': False, 'translator_type': 'none'}, id=3041513390, id_str='3041513390', name='gokzhere', screen_name='blues_CR7', location='London', description='Bleeds Blue | Fan account', url=None, entities={'description': {'urls': []}}, protected=False, followers_count=2714, friends_count=411, listed_count=6, created_at=datetime.datetime(2015, 2, 25, 15, 33, 44), favourites_count=38051, utc_offset=None, time_zone=None, geo_enabled=True, verified=False, statuses_count=8459, lang=None, contributors_enabled=False, is_translator=False, is_translation_enabled=False, profile_background_color='FFCC4D', profile_background_image_url='http://abs.twimg.com/images/themes/theme1/bg.png', profile_background_image_url_https='https://abs.twimg.com/images/themes/theme1/bg.png', profile_background_tile=False, profile_image_url='http://pbs.twimg.com/profile_images/1293118649973186561/B11MzK-U_normal.jpg', profile_image_url_https='https://pbs.twimg.com/profile_images/1293118649973186561/B11MzK-U_normal.jpg', profile_banner_url='https://pbs.twimg.com/profile_banners/3041513390/1596728403', profile_link_color='9266CC', profile_sidebar_border_color='000000', profile_sidebar_fill_color='000000', profile_text_color='000000', profile_use_background_image=False, has_extended_profile=True, default_profile=False, default_profile_image=False, following=False, follow_request_sent=False, notifications=False, translator_type='none'), user=User(_api=<tweepy.api.API object at 0x000002360C560F88>, _json={'id': 3041513390, 'id_str': '3041513390', 'name': 'gokzhere', 'screen_name': 'blues_CR7', 'location': 'London', 'description': 'Bleeds Blue | Fan account', 'url': None, 'entities': {'description': {'urls': []}}, 'protected': False, 'followers_count': 2714, 'friends_count': 411, 'listed_count': 6, 'created_at': 'Wed Feb 25 15:33:44 +0000 2015', 'favourites_count': 38051, 'utc_offset': None, 'time_zone': None, 'geo_enabled': True, 'verified': False, 'statuses_count': 8459, 'lang': None, 'contributors_enabled': False, 'is_translator': False, 'is_translation_enabled': False, 'profile_background_color': 'FFCC4D', 'profile_background_image_url': 'http://abs.twimg.com/images/themes/theme1/bg.png', 'profile_background_image_url_https': 'https://abs.twimg.com/images/themes/theme1/bg.png', 'profile_background_tile': False, 'profile_image_url': 'http://pbs.twimg.com/profile_images/1293118649973186561/B11MzK-U_normal.jpg', 'profile_image_url_https': 'https://pbs.twimg.com/profile_images/1293118649973186561/B11MzK-U_normal.jpg', 'profile_banner_url': 'https://pbs.twimg.com/profile_banners/3041513390/1596728403', 'profile_link_color': '9266CC', 'profile_sidebar_border_color': '000000', 'profile_sidebar_fill_color': '000000', 'profile_text_color': '000000', 'profile_use_background_image': False, 'has_extended_profile': True, 'default_profile': False, 'default_profile_image': False, 'following': False, 'follow_request_sent': False, 'notifications': False, 'translator_type': 'none'}, id=3041513390, id_str='3041513390', name='gokzhere', screen_name='blues_CR7', location='London', description='Bleeds Blue | Fan account', url=None, entities={'description': {'urls': []}}, protected=False, followers_count=2714, friends_count=411, listed_count=6, created_at=datetime.datetime(2015, 2, 25, 15, 33, 44), favourites_count=38051, utc_offset=None, time_zone=None, geo_enabled=True, verified=False, statuses_count=8459, lang=None, contributors_enabled=False, is_translator=False, is_translation_enabled=False, profile_background_color='FFCC4D', profile_background_image_url='http://abs.twimg.com/images/themes/theme1/bg.png', profile_background_image_url_https='https://abs.twimg.com/images/themes/theme1/bg.png', profile_background_tile=False, profile_image_url='http://pbs.twimg.com/profile_images/1293118649973186561/B11MzK-U_normal.jpg', profile_image_url_https='https://pbs.twimg.com/profile_images/1293118649973186561/B11MzK-U_normal.jpg', profile_banner_url='https://pbs.twimg.com/profile_banners/3041513390/1596728403', profile_link_color='9266CC', profile_sidebar_border_color='000000', profile_sidebar_fill_color='000000', profile_text_color='000000', profile_use_background_image=False, has_extended_profile=True, default_profile=False, default_profile_image=False, following=False, follow_request_sent=False, notifications=False, translator_type='none'), geo=None, coordinates=None, place=None, contributors=None, is_quote_status=False, retweet_count=0, favorite_count=1, favorited=False, retweeted=False, lang='en') \n",
      "\n",
      ".....................................\n",
      "\n",
      "Status(_api=<tweepy.api.API object at 0x000002360C560F88>, _json={'created_at': 'Sun Nov 08 19:17:38 +0000 2020', 'id': 1325517855396225024, 'id_str': '1325517855396225024', 'full_text': \"@LoyalSachinFan Now CSK fans(mostly) are fully supporting DC in finals because they don't want MI winning IPL again.\\n\\nRCB fans(mostly) are silently supporting MI in finals because they don't want new team winning IPL before RCB.\", 'truncated': False, 'display_text_range': [16, 228], 'entities': {'hashtags': [], 'symbols': [], 'user_mentions': [{'screen_name': 'LoyalSachinFan', 'name': 'R A T N I S H', 'id': 292300972, 'id_str': '292300972', 'indices': [0, 15]}], 'urls': []}, 'metadata': {'iso_language_code': 'en', 'result_type': 'recent'}, 'source': '<a href=\"https://mobile.twitter.com\" rel=\"nofollow\">Twitter Web App</a>', 'in_reply_to_status_id': 1325516935824465920, 'in_reply_to_status_id_str': '1325516935824465920', 'in_reply_to_user_id': 292300972, 'in_reply_to_user_id_str': '292300972', 'in_reply_to_screen_name': 'LoyalSachinFan', 'user': {'id': 1301622609960865794, 'id_str': '1301622609960865794', 'name': 'Th@run', 'screen_name': 'ImSSMBfan', 'location': '', 'description': '@urstrulyMahesh fan\\n@sachin_rt devotee\\n@imro45 💙', 'url': None, 'entities': {'description': {'urls': []}}, 'protected': False, 'followers_count': 5, 'friends_count': 25, 'listed_count': 0, 'created_at': 'Thu Sep 03 20:46:35 +0000 2020', 'favourites_count': 881, 'utc_offset': None, 'time_zone': None, 'geo_enabled': False, 'verified': False, 'statuses_count': 537, 'lang': None, 'contributors_enabled': False, 'is_translator': False, 'is_translation_enabled': False, 'profile_background_color': 'F5F8FA', 'profile_background_image_url': None, 'profile_background_image_url_https': None, 'profile_background_tile': False, 'profile_image_url': 'http://pbs.twimg.com/profile_images/1322400401941880832/qyJfTuMz_normal.jpg', 'profile_image_url_https': 'https://pbs.twimg.com/profile_images/1322400401941880832/qyJfTuMz_normal.jpg', 'profile_banner_url': 'https://pbs.twimg.com/profile_banners/1301622609960865794/1599167385', 'profile_link_color': '1DA1F2', 'profile_sidebar_border_color': 'C0DEED', 'profile_sidebar_fill_color': 'DDEEF6', 'profile_text_color': '333333', 'profile_use_background_image': True, 'has_extended_profile': True, 'default_profile': True, 'default_profile_image': False, 'following': False, 'follow_request_sent': False, 'notifications': False, 'translator_type': 'none'}, 'geo': None, 'coordinates': None, 'place': None, 'contributors': None, 'is_quote_status': False, 'retweet_count': 0, 'favorite_count': 7, 'favorited': False, 'retweeted': False, 'lang': 'en'}, created_at=datetime.datetime(2020, 11, 8, 19, 17, 38), id=1325517855396225024, id_str='1325517855396225024', full_text=\"@LoyalSachinFan Now CSK fans(mostly) are fully supporting DC in finals because they don't want MI winning IPL again.\\n\\nRCB fans(mostly) are silently supporting MI in finals because they don't want new team winning IPL before RCB.\", truncated=False, display_text_range=[16, 228], entities={'hashtags': [], 'symbols': [], 'user_mentions': [{'screen_name': 'LoyalSachinFan', 'name': 'R A T N I S H', 'id': 292300972, 'id_str': '292300972', 'indices': [0, 15]}], 'urls': []}, metadata={'iso_language_code': 'en', 'result_type': 'recent'}, source='Twitter Web App', source_url='https://mobile.twitter.com', in_reply_to_status_id=1325516935824465920, in_reply_to_status_id_str='1325516935824465920', in_reply_to_user_id=292300972, in_reply_to_user_id_str='292300972', in_reply_to_screen_name='LoyalSachinFan', author=User(_api=<tweepy.api.API object at 0x000002360C560F88>, _json={'id': 1301622609960865794, 'id_str': '1301622609960865794', 'name': 'Th@run', 'screen_name': 'ImSSMBfan', 'location': '', 'description': '@urstrulyMahesh fan\\n@sachin_rt devotee\\n@imro45 💙', 'url': None, 'entities': {'description': {'urls': []}}, 'protected': False, 'followers_count': 5, 'friends_count': 25, 'listed_count': 0, 'created_at': 'Thu Sep 03 20:46:35 +0000 2020', 'favourites_count': 881, 'utc_offset': None, 'time_zone': None, 'geo_enabled': False, 'verified': False, 'statuses_count': 537, 'lang': None, 'contributors_enabled': False, 'is_translator': False, 'is_translation_enabled': False, 'profile_background_color': 'F5F8FA', 'profile_background_image_url': None, 'profile_background_image_url_https': None, 'profile_background_tile': False, 'profile_image_url': 'http://pbs.twimg.com/profile_images/1322400401941880832/qyJfTuMz_normal.jpg', 'profile_image_url_https': 'https://pbs.twimg.com/profile_images/1322400401941880832/qyJfTuMz_normal.jpg', 'profile_banner_url': 'https://pbs.twimg.com/profile_banners/1301622609960865794/1599167385', 'profile_link_color': '1DA1F2', 'profile_sidebar_border_color': 'C0DEED', 'profile_sidebar_fill_color': 'DDEEF6', 'profile_text_color': '333333', 'profile_use_background_image': True, 'has_extended_profile': True, 'default_profile': True, 'default_profile_image': False, 'following': False, 'follow_request_sent': False, 'notifications': False, 'translator_type': 'none'}, id=1301622609960865794, id_str='1301622609960865794', name='Th@run', screen_name='ImSSMBfan', location='', description='@urstrulyMahesh fan\\n@sachin_rt devotee\\n@imro45 💙', url=None, entities={'description': {'urls': []}}, protected=False, followers_count=5, friends_count=25, listed_count=0, created_at=datetime.datetime(2020, 9, 3, 20, 46, 35), favourites_count=881, utc_offset=None, time_zone=None, geo_enabled=False, verified=False, statuses_count=537, lang=None, contributors_enabled=False, is_translator=False, is_translation_enabled=False, profile_background_color='F5F8FA', profile_background_image_url=None, profile_background_image_url_https=None, profile_background_tile=False, profile_image_url='http://pbs.twimg.com/profile_images/1322400401941880832/qyJfTuMz_normal.jpg', profile_image_url_https='https://pbs.twimg.com/profile_images/1322400401941880832/qyJfTuMz_normal.jpg', profile_banner_url='https://pbs.twimg.com/profile_banners/1301622609960865794/1599167385', profile_link_color='1DA1F2', profile_sidebar_border_color='C0DEED', profile_sidebar_fill_color='DDEEF6', profile_text_color='333333', profile_use_background_image=True, has_extended_profile=True, default_profile=True, default_profile_image=False, following=False, follow_request_sent=False, notifications=False, translator_type='none'), user=User(_api=<tweepy.api.API object at 0x000002360C560F88>, _json={'id': 1301622609960865794, 'id_str': '1301622609960865794', 'name': 'Th@run', 'screen_name': 'ImSSMBfan', 'location': '', 'description': '@urstrulyMahesh fan\\n@sachin_rt devotee\\n@imro45 💙', 'url': None, 'entities': {'description': {'urls': []}}, 'protected': False, 'followers_count': 5, 'friends_count': 25, 'listed_count': 0, 'created_at': 'Thu Sep 03 20:46:35 +0000 2020', 'favourites_count': 881, 'utc_offset': None, 'time_zone': None, 'geo_enabled': False, 'verified': False, 'statuses_count': 537, 'lang': None, 'contributors_enabled': False, 'is_translator': False, 'is_translation_enabled': False, 'profile_background_color': 'F5F8FA', 'profile_background_image_url': None, 'profile_background_image_url_https': None, 'profile_background_tile': False, 'profile_image_url': 'http://pbs.twimg.com/profile_images/1322400401941880832/qyJfTuMz_normal.jpg', 'profile_image_url_https': 'https://pbs.twimg.com/profile_images/1322400401941880832/qyJfTuMz_normal.jpg', 'profile_banner_url': 'https://pbs.twimg.com/profile_banners/1301622609960865794/1599167385', 'profile_link_color': '1DA1F2', 'profile_sidebar_border_color': 'C0DEED', 'profile_sidebar_fill_color': 'DDEEF6', 'profile_text_color': '333333', 'profile_use_background_image': True, 'has_extended_profile': True, 'default_profile': True, 'default_profile_image': False, 'following': False, 'follow_request_sent': False, 'notifications': False, 'translator_type': 'none'}, id=1301622609960865794, id_str='1301622609960865794', name='Th@run', screen_name='ImSSMBfan', location='', description='@urstrulyMahesh fan\\n@sachin_rt devotee\\n@imro45 💙', url=None, entities={'description': {'urls': []}}, protected=False, followers_count=5, friends_count=25, listed_count=0, created_at=datetime.datetime(2020, 9, 3, 20, 46, 35), favourites_count=881, utc_offset=None, time_zone=None, geo_enabled=False, verified=False, statuses_count=537, lang=None, contributors_enabled=False, is_translator=False, is_translation_enabled=False, profile_background_color='F5F8FA', profile_background_image_url=None, profile_background_image_url_https=None, profile_background_tile=False, profile_image_url='http://pbs.twimg.com/profile_images/1322400401941880832/qyJfTuMz_normal.jpg', profile_image_url_https='https://pbs.twimg.com/profile_images/1322400401941880832/qyJfTuMz_normal.jpg', profile_banner_url='https://pbs.twimg.com/profile_banners/1301622609960865794/1599167385', profile_link_color='1DA1F2', profile_sidebar_border_color='C0DEED', profile_sidebar_fill_color='DDEEF6', profile_text_color='333333', profile_use_background_image=True, has_extended_profile=True, default_profile=True, default_profile_image=False, following=False, follow_request_sent=False, notifications=False, translator_type='none'), geo=None, coordinates=None, place=None, contributors=None, is_quote_status=False, retweet_count=0, favorite_count=7, favorited=False, retweeted=False, lang='en') \n",
      "\n",
      ".....................................\n",
      "\n",
      "Status(_api=<tweepy.api.API object at 0x000002360C560F88>, _json={'created_at': 'Sun Nov 08 19:12:58 +0000 2020', 'id': 1325516683180564480, 'id_str': '1325516683180564480', 'full_text': \"many rcb fans going to support mi in finals and the ones who are not are talking about ind vs aus. or have disappeared till 27\\nmahn what should I do can't support mi any day and dc winning trophy no pls I AM CRYING CURRENTLY I CAN'T EVEN IGNORE IPL .\\nwhy rcb do this with me\", 'truncated': False, 'display_text_range': [0, 274], 'entities': {'hashtags': [], 'symbols': [], 'user_mentions': [], 'urls': []}, 'metadata': {'iso_language_code': 'en', 'result_type': 'recent'}, 'source': '<a href=\"http://twitter.com/download/android\" rel=\"nofollow\">Twitter for Android</a>', 'in_reply_to_status_id': None, 'in_reply_to_status_id_str': None, 'in_reply_to_user_id': None, 'in_reply_to_user_id_str': None, 'in_reply_to_screen_name': None, 'user': {'id': 1221518037565702144, 'id_str': '1221518037565702144', 'name': 'ᴀɴɪsʜᴋᴀ🕊️', 'screen_name': 'viratslight', 'location': '@heavenlyvirat on IG ', 'description': 'Me :-(\\nVirat Kohli :-)\\nMe :-)', 'url': None, 'entities': {'description': {'urls': []}}, 'protected': False, 'followers_count': 79, 'friends_count': 73, 'listed_count': 0, 'created_at': 'Sun Jan 26 19:39:38 +0000 2020', 'favourites_count': 963, 'utc_offset': None, 'time_zone': None, 'geo_enabled': False, 'verified': False, 'statuses_count': 1954, 'lang': None, 'contributors_enabled': False, 'is_translator': False, 'is_translation_enabled': False, 'profile_background_color': 'F5F8FA', 'profile_background_image_url': None, 'profile_background_image_url_https': None, 'profile_background_tile': False, 'profile_image_url': 'http://pbs.twimg.com/profile_images/1324799624788373504/2kAowYig_normal.jpg', 'profile_image_url_https': 'https://pbs.twimg.com/profile_images/1324799624788373504/2kAowYig_normal.jpg', 'profile_banner_url': 'https://pbs.twimg.com/profile_banners/1221518037565702144/1604691852', 'profile_link_color': '1DA1F2', 'profile_sidebar_border_color': 'C0DEED', 'profile_sidebar_fill_color': 'DDEEF6', 'profile_text_color': '333333', 'profile_use_background_image': True, 'has_extended_profile': False, 'default_profile': True, 'default_profile_image': False, 'following': False, 'follow_request_sent': False, 'notifications': False, 'translator_type': 'none'}, 'geo': None, 'coordinates': None, 'place': None, 'contributors': None, 'is_quote_status': False, 'retweet_count': 0, 'favorite_count': 1, 'favorited': False, 'retweeted': False, 'lang': 'en'}, created_at=datetime.datetime(2020, 11, 8, 19, 12, 58), id=1325516683180564480, id_str='1325516683180564480', full_text=\"many rcb fans going to support mi in finals and the ones who are not are talking about ind vs aus. or have disappeared till 27\\nmahn what should I do can't support mi any day and dc winning trophy no pls I AM CRYING CURRENTLY I CAN'T EVEN IGNORE IPL .\\nwhy rcb do this with me\", truncated=False, display_text_range=[0, 274], entities={'hashtags': [], 'symbols': [], 'user_mentions': [], 'urls': []}, metadata={'iso_language_code': 'en', 'result_type': 'recent'}, source='Twitter for Android', source_url='http://twitter.com/download/android', in_reply_to_status_id=None, in_reply_to_status_id_str=None, in_reply_to_user_id=None, in_reply_to_user_id_str=None, in_reply_to_screen_name=None, author=User(_api=<tweepy.api.API object at 0x000002360C560F88>, _json={'id': 1221518037565702144, 'id_str': '1221518037565702144', 'name': 'ᴀɴɪsʜᴋᴀ🕊️', 'screen_name': 'viratslight', 'location': '@heavenlyvirat on IG ', 'description': 'Me :-(\\nVirat Kohli :-)\\nMe :-)', 'url': None, 'entities': {'description': {'urls': []}}, 'protected': False, 'followers_count': 79, 'friends_count': 73, 'listed_count': 0, 'created_at': 'Sun Jan 26 19:39:38 +0000 2020', 'favourites_count': 963, 'utc_offset': None, 'time_zone': None, 'geo_enabled': False, 'verified': False, 'statuses_count': 1954, 'lang': None, 'contributors_enabled': False, 'is_translator': False, 'is_translation_enabled': False, 'profile_background_color': 'F5F8FA', 'profile_background_image_url': None, 'profile_background_image_url_https': None, 'profile_background_tile': False, 'profile_image_url': 'http://pbs.twimg.com/profile_images/1324799624788373504/2kAowYig_normal.jpg', 'profile_image_url_https': 'https://pbs.twimg.com/profile_images/1324799624788373504/2kAowYig_normal.jpg', 'profile_banner_url': 'https://pbs.twimg.com/profile_banners/1221518037565702144/1604691852', 'profile_link_color': '1DA1F2', 'profile_sidebar_border_color': 'C0DEED', 'profile_sidebar_fill_color': 'DDEEF6', 'profile_text_color': '333333', 'profile_use_background_image': True, 'has_extended_profile': False, 'default_profile': True, 'default_profile_image': False, 'following': False, 'follow_request_sent': False, 'notifications': False, 'translator_type': 'none'}, id=1221518037565702144, id_str='1221518037565702144', name='ᴀɴɪsʜᴋᴀ🕊️', screen_name='viratslight', location='@heavenlyvirat on IG ', description='Me :-(\\nVirat Kohli :-)\\nMe :-)', url=None, entities={'description': {'urls': []}}, protected=False, followers_count=79, friends_count=73, listed_count=0, created_at=datetime.datetime(2020, 1, 26, 19, 39, 38), favourites_count=963, utc_offset=None, time_zone=None, geo_enabled=False, verified=False, statuses_count=1954, lang=None, contributors_enabled=False, is_translator=False, is_translation_enabled=False, profile_background_color='F5F8FA', profile_background_image_url=None, profile_background_image_url_https=None, profile_background_tile=False, profile_image_url='http://pbs.twimg.com/profile_images/1324799624788373504/2kAowYig_normal.jpg', profile_image_url_https='https://pbs.twimg.com/profile_images/1324799624788373504/2kAowYig_normal.jpg', profile_banner_url='https://pbs.twimg.com/profile_banners/1221518037565702144/1604691852', profile_link_color='1DA1F2', profile_sidebar_border_color='C0DEED', profile_sidebar_fill_color='DDEEF6', profile_text_color='333333', profile_use_background_image=True, has_extended_profile=False, default_profile=True, default_profile_image=False, following=False, follow_request_sent=False, notifications=False, translator_type='none'), user=User(_api=<tweepy.api.API object at 0x000002360C560F88>, _json={'id': 1221518037565702144, 'id_str': '1221518037565702144', 'name': 'ᴀɴɪsʜᴋᴀ🕊️', 'screen_name': 'viratslight', 'location': '@heavenlyvirat on IG ', 'description': 'Me :-(\\nVirat Kohli :-)\\nMe :-)', 'url': None, 'entities': {'description': {'urls': []}}, 'protected': False, 'followers_count': 79, 'friends_count': 73, 'listed_count': 0, 'created_at': 'Sun Jan 26 19:39:38 +0000 2020', 'favourites_count': 963, 'utc_offset': None, 'time_zone': None, 'geo_enabled': False, 'verified': False, 'statuses_count': 1954, 'lang': None, 'contributors_enabled': False, 'is_translator': False, 'is_translation_enabled': False, 'profile_background_color': 'F5F8FA', 'profile_background_image_url': None, 'profile_background_image_url_https': None, 'profile_background_tile': False, 'profile_image_url': 'http://pbs.twimg.com/profile_images/1324799624788373504/2kAowYig_normal.jpg', 'profile_image_url_https': 'https://pbs.twimg.com/profile_images/1324799624788373504/2kAowYig_normal.jpg', 'profile_banner_url': 'https://pbs.twimg.com/profile_banners/1221518037565702144/1604691852', 'profile_link_color': '1DA1F2', 'profile_sidebar_border_color': 'C0DEED', 'profile_sidebar_fill_color': 'DDEEF6', 'profile_text_color': '333333', 'profile_use_background_image': True, 'has_extended_profile': False, 'default_profile': True, 'default_profile_image': False, 'following': False, 'follow_request_sent': False, 'notifications': False, 'translator_type': 'none'}, id=1221518037565702144, id_str='1221518037565702144', name='ᴀɴɪsʜᴋᴀ🕊️', screen_name='viratslight', location='@heavenlyvirat on IG ', description='Me :-(\\nVirat Kohli :-)\\nMe :-)', url=None, entities={'description': {'urls': []}}, protected=False, followers_count=79, friends_count=73, listed_count=0, created_at=datetime.datetime(2020, 1, 26, 19, 39, 38), favourites_count=963, utc_offset=None, time_zone=None, geo_enabled=False, verified=False, statuses_count=1954, lang=None, contributors_enabled=False, is_translator=False, is_translation_enabled=False, profile_background_color='F5F8FA', profile_background_image_url=None, profile_background_image_url_https=None, profile_background_tile=False, profile_image_url='http://pbs.twimg.com/profile_images/1324799624788373504/2kAowYig_normal.jpg', profile_image_url_https='https://pbs.twimg.com/profile_images/1324799624788373504/2kAowYig_normal.jpg', profile_banner_url='https://pbs.twimg.com/profile_banners/1221518037565702144/1604691852', profile_link_color='1DA1F2', profile_sidebar_border_color='C0DEED', profile_sidebar_fill_color='DDEEF6', profile_text_color='333333', profile_use_background_image=True, has_extended_profile=False, default_profile=True, default_profile_image=False, following=False, follow_request_sent=False, notifications=False, translator_type='none'), geo=None, coordinates=None, place=None, contributors=None, is_quote_status=False, retweet_count=0, favorite_count=1, favorited=False, retweeted=False, lang='en') \n",
      "\n",
      ".....................................\n",
      "\n",
      "Status(_api=<tweepy.api.API object at 0x000002360C560F88>, _json={'created_at': 'Sun Nov 08 19:12:37 +0000 2020', 'id': 1325516595150479365, 'id_str': '1325516595150479365', 'full_text': '@bot_head_ @UnitedHKJ No bro need an Indian owner who thinks winning ipl is a prestige 😂.These American/UK companies will care just about profits....the current problem  is that rcb is run by some executive of Diageo...they keep changing the person every 2 yrs..(1/2)', 'truncated': False, 'display_text_range': [22, 267], 'entities': {'hashtags': [], 'symbols': [], 'user_mentions': [{'screen_name': 'bot_head_', 'name': 'I support a shit club', 'id': 868463890174275584, 'id_str': '868463890174275584', 'indices': [0, 10]}, {'screen_name': 'UnitedHKJ', 'name': 'Bot Head fan account', 'id': 264664507, 'id_str': '264664507', 'indices': [11, 21]}], 'urls': []}, 'metadata': {'iso_language_code': 'en', 'result_type': 'recent'}, 'source': '<a href=\"https://mobile.twitter.com\" rel=\"nofollow\">Twitter Web App</a>', 'in_reply_to_status_id': 1325511357932822528, 'in_reply_to_status_id_str': '1325511357932822528', 'in_reply_to_user_id': 868463890174275584, 'in_reply_to_user_id_str': '868463890174275584', 'in_reply_to_screen_name': 'bot_head_', 'user': {'id': 1280100563040915456, 'id_str': '1280100563040915456', 'name': 'Axyz', 'screen_name': '__sidspeaks', 'location': 'Bengaluru', 'description': '22|Programmer  | Real Madrid  | RCB', 'url': None, 'entities': {'description': {'urls': []}}, 'protected': False, 'followers_count': 73, 'friends_count': 334, 'listed_count': 0, 'created_at': 'Mon Jul 06 11:25:42 +0000 2020', 'favourites_count': 4575, 'utc_offset': None, 'time_zone': None, 'geo_enabled': False, 'verified': False, 'statuses_count': 1450, 'lang': None, 'contributors_enabled': False, 'is_translator': False, 'is_translation_enabled': False, 'profile_background_color': 'F5F8FA', 'profile_background_image_url': None, 'profile_background_image_url_https': None, 'profile_background_tile': False, 'profile_image_url': 'http://pbs.twimg.com/profile_images/1301495180600598529/FuXbOaVG_normal.jpg', 'profile_image_url_https': 'https://pbs.twimg.com/profile_images/1301495180600598529/FuXbOaVG_normal.jpg', 'profile_link_color': '1DA1F2', 'profile_sidebar_border_color': 'C0DEED', 'profile_sidebar_fill_color': 'DDEEF6', 'profile_text_color': '333333', 'profile_use_background_image': True, 'has_extended_profile': True, 'default_profile': True, 'default_profile_image': False, 'following': False, 'follow_request_sent': False, 'notifications': False, 'translator_type': 'none'}, 'geo': None, 'coordinates': None, 'place': None, 'contributors': None, 'is_quote_status': False, 'retweet_count': 0, 'favorite_count': 2, 'favorited': False, 'retweeted': False, 'lang': 'en'}, created_at=datetime.datetime(2020, 11, 8, 19, 12, 37), id=1325516595150479365, id_str='1325516595150479365', full_text='@bot_head_ @UnitedHKJ No bro need an Indian owner who thinks winning ipl is a prestige 😂.These American/UK companies will care just about profits....the current problem  is that rcb is run by some executive of Diageo...they keep changing the person every 2 yrs..(1/2)', truncated=False, display_text_range=[22, 267], entities={'hashtags': [], 'symbols': [], 'user_mentions': [{'screen_name': 'bot_head_', 'name': 'I support a shit club', 'id': 868463890174275584, 'id_str': '868463890174275584', 'indices': [0, 10]}, {'screen_name': 'UnitedHKJ', 'name': 'Bot Head fan account', 'id': 264664507, 'id_str': '264664507', 'indices': [11, 21]}], 'urls': []}, metadata={'iso_language_code': 'en', 'result_type': 'recent'}, source='Twitter Web App', source_url='https://mobile.twitter.com', in_reply_to_status_id=1325511357932822528, in_reply_to_status_id_str='1325511357932822528', in_reply_to_user_id=868463890174275584, in_reply_to_user_id_str='868463890174275584', in_reply_to_screen_name='bot_head_', author=User(_api=<tweepy.api.API object at 0x000002360C560F88>, _json={'id': 1280100563040915456, 'id_str': '1280100563040915456', 'name': 'Axyz', 'screen_name': '__sidspeaks', 'location': 'Bengaluru', 'description': '22|Programmer  | Real Madrid  | RCB', 'url': None, 'entities': {'description': {'urls': []}}, 'protected': False, 'followers_count': 73, 'friends_count': 334, 'listed_count': 0, 'created_at': 'Mon Jul 06 11:25:42 +0000 2020', 'favourites_count': 4575, 'utc_offset': None, 'time_zone': None, 'geo_enabled': False, 'verified': False, 'statuses_count': 1450, 'lang': None, 'contributors_enabled': False, 'is_translator': False, 'is_translation_enabled': False, 'profile_background_color': 'F5F8FA', 'profile_background_image_url': None, 'profile_background_image_url_https': None, 'profile_background_tile': False, 'profile_image_url': 'http://pbs.twimg.com/profile_images/1301495180600598529/FuXbOaVG_normal.jpg', 'profile_image_url_https': 'https://pbs.twimg.com/profile_images/1301495180600598529/FuXbOaVG_normal.jpg', 'profile_link_color': '1DA1F2', 'profile_sidebar_border_color': 'C0DEED', 'profile_sidebar_fill_color': 'DDEEF6', 'profile_text_color': '333333', 'profile_use_background_image': True, 'has_extended_profile': True, 'default_profile': True, 'default_profile_image': False, 'following': False, 'follow_request_sent': False, 'notifications': False, 'translator_type': 'none'}, id=1280100563040915456, id_str='1280100563040915456', name='Axyz', screen_name='__sidspeaks', location='Bengaluru', description='22|Programmer  | Real Madrid  | RCB', url=None, entities={'description': {'urls': []}}, protected=False, followers_count=73, friends_count=334, listed_count=0, created_at=datetime.datetime(2020, 7, 6, 11, 25, 42), favourites_count=4575, utc_offset=None, time_zone=None, geo_enabled=False, verified=False, statuses_count=1450, lang=None, contributors_enabled=False, is_translator=False, is_translation_enabled=False, profile_background_color='F5F8FA', profile_background_image_url=None, profile_background_image_url_https=None, profile_background_tile=False, profile_image_url='http://pbs.twimg.com/profile_images/1301495180600598529/FuXbOaVG_normal.jpg', profile_image_url_https='https://pbs.twimg.com/profile_images/1301495180600598529/FuXbOaVG_normal.jpg', profile_link_color='1DA1F2', profile_sidebar_border_color='C0DEED', profile_sidebar_fill_color='DDEEF6', profile_text_color='333333', profile_use_background_image=True, has_extended_profile=True, default_profile=True, default_profile_image=False, following=False, follow_request_sent=False, notifications=False, translator_type='none'), user=User(_api=<tweepy.api.API object at 0x000002360C560F88>, _json={'id': 1280100563040915456, 'id_str': '1280100563040915456', 'name': 'Axyz', 'screen_name': '__sidspeaks', 'location': 'Bengaluru', 'description': '22|Programmer  | Real Madrid  | RCB', 'url': None, 'entities': {'description': {'urls': []}}, 'protected': False, 'followers_count': 73, 'friends_count': 334, 'listed_count': 0, 'created_at': 'Mon Jul 06 11:25:42 +0000 2020', 'favourites_count': 4575, 'utc_offset': None, 'time_zone': None, 'geo_enabled': False, 'verified': False, 'statuses_count': 1450, 'lang': None, 'contributors_enabled': False, 'is_translator': False, 'is_translation_enabled': False, 'profile_background_color': 'F5F8FA', 'profile_background_image_url': None, 'profile_background_image_url_https': None, 'profile_background_tile': False, 'profile_image_url': 'http://pbs.twimg.com/profile_images/1301495180600598529/FuXbOaVG_normal.jpg', 'profile_image_url_https': 'https://pbs.twimg.com/profile_images/1301495180600598529/FuXbOaVG_normal.jpg', 'profile_link_color': '1DA1F2', 'profile_sidebar_border_color': 'C0DEED', 'profile_sidebar_fill_color': 'DDEEF6', 'profile_text_color': '333333', 'profile_use_background_image': True, 'has_extended_profile': True, 'default_profile': True, 'default_profile_image': False, 'following': False, 'follow_request_sent': False, 'notifications': False, 'translator_type': 'none'}, id=1280100563040915456, id_str='1280100563040915456', name='Axyz', screen_name='__sidspeaks', location='Bengaluru', description='22|Programmer  | Real Madrid  | RCB', url=None, entities={'description': {'urls': []}}, protected=False, followers_count=73, friends_count=334, listed_count=0, created_at=datetime.datetime(2020, 7, 6, 11, 25, 42), favourites_count=4575, utc_offset=None, time_zone=None, geo_enabled=False, verified=False, statuses_count=1450, lang=None, contributors_enabled=False, is_translator=False, is_translation_enabled=False, profile_background_color='F5F8FA', profile_background_image_url=None, profile_background_image_url_https=None, profile_background_tile=False, profile_image_url='http://pbs.twimg.com/profile_images/1301495180600598529/FuXbOaVG_normal.jpg', profile_image_url_https='https://pbs.twimg.com/profile_images/1301495180600598529/FuXbOaVG_normal.jpg', profile_link_color='1DA1F2', profile_sidebar_border_color='C0DEED', profile_sidebar_fill_color='DDEEF6', profile_text_color='333333', profile_use_background_image=True, has_extended_profile=True, default_profile=True, default_profile_image=False, following=False, follow_request_sent=False, notifications=False, translator_type='none'), geo=None, coordinates=None, place=None, contributors=None, is_quote_status=False, retweet_count=0, favorite_count=2, favorited=False, retweeted=False, lang='en') \n",
      "\n",
      ".....................................\n",
      "\n",
      "Status(_api=<tweepy.api.API object at 0x000002360C560F88>, _json={'created_at': 'Sun Nov 08 18:46:20 +0000 2020', 'id': 1325509980619878400, 'id_str': '1325509980619878400', 'full_text': \"Now RCB fans(mostly) are silently supporting MI in finals because they don't want new team winning IPL before RCB.\\nNow CSK fans(mostly) are fully supporting DC in finals because they don't want MI winning IPL again.\\nReview based on twitter fans only\\n#Dream11IPL #MIvDC \\n#IPL2020\", 'truncated': False, 'display_text_range': [0, 278], 'entities': {'hashtags': [{'text': 'Dream11IPL', 'indices': [250, 261]}, {'text': 'MIvDC', 'indices': [262, 268]}, {'text': 'IPL2020', 'indices': [270, 278]}], 'symbols': [], 'user_mentions': [], 'urls': []}, 'metadata': {'iso_language_code': 'en', 'result_type': 'recent'}, 'source': '<a href=\"https://mobile.twitter.com\" rel=\"nofollow\">Twitter Web App</a>', 'in_reply_to_status_id': None, 'in_reply_to_status_id_str': None, 'in_reply_to_user_id': None, 'in_reply_to_user_id_str': None, 'in_reply_to_screen_name': None, 'user': {'id': 1301622609960865794, 'id_str': '1301622609960865794', 'name': 'Th@run', 'screen_name': 'ImSSMBfan', 'location': '', 'description': '@urstrulyMahesh fan\\n@sachin_rt devotee\\n@imro45 💙', 'url': None, 'entities': {'description': {'urls': []}}, 'protected': False, 'followers_count': 5, 'friends_count': 25, 'listed_count': 0, 'created_at': 'Thu Sep 03 20:46:35 +0000 2020', 'favourites_count': 881, 'utc_offset': None, 'time_zone': None, 'geo_enabled': False, 'verified': False, 'statuses_count': 537, 'lang': None, 'contributors_enabled': False, 'is_translator': False, 'is_translation_enabled': False, 'profile_background_color': 'F5F8FA', 'profile_background_image_url': None, 'profile_background_image_url_https': None, 'profile_background_tile': False, 'profile_image_url': 'http://pbs.twimg.com/profile_images/1322400401941880832/qyJfTuMz_normal.jpg', 'profile_image_url_https': 'https://pbs.twimg.com/profile_images/1322400401941880832/qyJfTuMz_normal.jpg', 'profile_banner_url': 'https://pbs.twimg.com/profile_banners/1301622609960865794/1599167385', 'profile_link_color': '1DA1F2', 'profile_sidebar_border_color': 'C0DEED', 'profile_sidebar_fill_color': 'DDEEF6', 'profile_text_color': '333333', 'profile_use_background_image': True, 'has_extended_profile': True, 'default_profile': True, 'default_profile_image': False, 'following': False, 'follow_request_sent': False, 'notifications': False, 'translator_type': 'none'}, 'geo': None, 'coordinates': None, 'place': None, 'contributors': None, 'is_quote_status': False, 'retweet_count': 1, 'favorite_count': 3, 'favorited': False, 'retweeted': False, 'lang': 'en'}, created_at=datetime.datetime(2020, 11, 8, 18, 46, 20), id=1325509980619878400, id_str='1325509980619878400', full_text=\"Now RCB fans(mostly) are silently supporting MI in finals because they don't want new team winning IPL before RCB.\\nNow CSK fans(mostly) are fully supporting DC in finals because they don't want MI winning IPL again.\\nReview based on twitter fans only\\n#Dream11IPL #MIvDC \\n#IPL2020\", truncated=False, display_text_range=[0, 278], entities={'hashtags': [{'text': 'Dream11IPL', 'indices': [250, 261]}, {'text': 'MIvDC', 'indices': [262, 268]}, {'text': 'IPL2020', 'indices': [270, 278]}], 'symbols': [], 'user_mentions': [], 'urls': []}, metadata={'iso_language_code': 'en', 'result_type': 'recent'}, source='Twitter Web App', source_url='https://mobile.twitter.com', in_reply_to_status_id=None, in_reply_to_status_id_str=None, in_reply_to_user_id=None, in_reply_to_user_id_str=None, in_reply_to_screen_name=None, author=User(_api=<tweepy.api.API object at 0x000002360C560F88>, _json={'id': 1301622609960865794, 'id_str': '1301622609960865794', 'name': 'Th@run', 'screen_name': 'ImSSMBfan', 'location': '', 'description': '@urstrulyMahesh fan\\n@sachin_rt devotee\\n@imro45 💙', 'url': None, 'entities': {'description': {'urls': []}}, 'protected': False, 'followers_count': 5, 'friends_count': 25, 'listed_count': 0, 'created_at': 'Thu Sep 03 20:46:35 +0000 2020', 'favourites_count': 881, 'utc_offset': None, 'time_zone': None, 'geo_enabled': False, 'verified': False, 'statuses_count': 537, 'lang': None, 'contributors_enabled': False, 'is_translator': False, 'is_translation_enabled': False, 'profile_background_color': 'F5F8FA', 'profile_background_image_url': None, 'profile_background_image_url_https': None, 'profile_background_tile': False, 'profile_image_url': 'http://pbs.twimg.com/profile_images/1322400401941880832/qyJfTuMz_normal.jpg', 'profile_image_url_https': 'https://pbs.twimg.com/profile_images/1322400401941880832/qyJfTuMz_normal.jpg', 'profile_banner_url': 'https://pbs.twimg.com/profile_banners/1301622609960865794/1599167385', 'profile_link_color': '1DA1F2', 'profile_sidebar_border_color': 'C0DEED', 'profile_sidebar_fill_color': 'DDEEF6', 'profile_text_color': '333333', 'profile_use_background_image': True, 'has_extended_profile': True, 'default_profile': True, 'default_profile_image': False, 'following': False, 'follow_request_sent': False, 'notifications': False, 'translator_type': 'none'}, id=1301622609960865794, id_str='1301622609960865794', name='Th@run', screen_name='ImSSMBfan', location='', description='@urstrulyMahesh fan\\n@sachin_rt devotee\\n@imro45 💙', url=None, entities={'description': {'urls': []}}, protected=False, followers_count=5, friends_count=25, listed_count=0, created_at=datetime.datetime(2020, 9, 3, 20, 46, 35), favourites_count=881, utc_offset=None, time_zone=None, geo_enabled=False, verified=False, statuses_count=537, lang=None, contributors_enabled=False, is_translator=False, is_translation_enabled=False, profile_background_color='F5F8FA', profile_background_image_url=None, profile_background_image_url_https=None, profile_background_tile=False, profile_image_url='http://pbs.twimg.com/profile_images/1322400401941880832/qyJfTuMz_normal.jpg', profile_image_url_https='https://pbs.twimg.com/profile_images/1322400401941880832/qyJfTuMz_normal.jpg', profile_banner_url='https://pbs.twimg.com/profile_banners/1301622609960865794/1599167385', profile_link_color='1DA1F2', profile_sidebar_border_color='C0DEED', profile_sidebar_fill_color='DDEEF6', profile_text_color='333333', profile_use_background_image=True, has_extended_profile=True, default_profile=True, default_profile_image=False, following=False, follow_request_sent=False, notifications=False, translator_type='none'), user=User(_api=<tweepy.api.API object at 0x000002360C560F88>, _json={'id': 1301622609960865794, 'id_str': '1301622609960865794', 'name': 'Th@run', 'screen_name': 'ImSSMBfan', 'location': '', 'description': '@urstrulyMahesh fan\\n@sachin_rt devotee\\n@imro45 💙', 'url': None, 'entities': {'description': {'urls': []}}, 'protected': False, 'followers_count': 5, 'friends_count': 25, 'listed_count': 0, 'created_at': 'Thu Sep 03 20:46:35 +0000 2020', 'favourites_count': 881, 'utc_offset': None, 'time_zone': None, 'geo_enabled': False, 'verified': False, 'statuses_count': 537, 'lang': None, 'contributors_enabled': False, 'is_translator': False, 'is_translation_enabled': False, 'profile_background_color': 'F5F8FA', 'profile_background_image_url': None, 'profile_background_image_url_https': None, 'profile_background_tile': False, 'profile_image_url': 'http://pbs.twimg.com/profile_images/1322400401941880832/qyJfTuMz_normal.jpg', 'profile_image_url_https': 'https://pbs.twimg.com/profile_images/1322400401941880832/qyJfTuMz_normal.jpg', 'profile_banner_url': 'https://pbs.twimg.com/profile_banners/1301622609960865794/1599167385', 'profile_link_color': '1DA1F2', 'profile_sidebar_border_color': 'C0DEED', 'profile_sidebar_fill_color': 'DDEEF6', 'profile_text_color': '333333', 'profile_use_background_image': True, 'has_extended_profile': True, 'default_profile': True, 'default_profile_image': False, 'following': False, 'follow_request_sent': False, 'notifications': False, 'translator_type': 'none'}, id=1301622609960865794, id_str='1301622609960865794', name='Th@run', screen_name='ImSSMBfan', location='', description='@urstrulyMahesh fan\\n@sachin_rt devotee\\n@imro45 💙', url=None, entities={'description': {'urls': []}}, protected=False, followers_count=5, friends_count=25, listed_count=0, created_at=datetime.datetime(2020, 9, 3, 20, 46, 35), favourites_count=881, utc_offset=None, time_zone=None, geo_enabled=False, verified=False, statuses_count=537, lang=None, contributors_enabled=False, is_translator=False, is_translation_enabled=False, profile_background_color='F5F8FA', profile_background_image_url=None, profile_background_image_url_https=None, profile_background_tile=False, profile_image_url='http://pbs.twimg.com/profile_images/1322400401941880832/qyJfTuMz_normal.jpg', profile_image_url_https='https://pbs.twimg.com/profile_images/1322400401941880832/qyJfTuMz_normal.jpg', profile_banner_url='https://pbs.twimg.com/profile_banners/1301622609960865794/1599167385', profile_link_color='1DA1F2', profile_sidebar_border_color='C0DEED', profile_sidebar_fill_color='DDEEF6', profile_text_color='333333', profile_use_background_image=True, has_extended_profile=True, default_profile=True, default_profile_image=False, following=False, follow_request_sent=False, notifications=False, translator_type='none'), geo=None, coordinates=None, place=None, contributors=None, is_quote_status=False, retweet_count=1, favorite_count=3, favorited=False, retweeted=False, lang='en') \n",
      "\n",
      ".....................................\n",
      "\n"
     ]
    }
   ],
   "source": [
    "Tweets = api.search( query , count=10 , lang='en' , exclude='retweets' , tweet_mode='extended' )\n",
    "# tweet_mode='extended'\n",
    "# tweet_mode='compat'\n",
    "\n",
    "for tweet in Tweets:\n",
    "    print(tweet,\"\\n\")\n",
    "    print(\".....................................\\n\")\n",
    "\n"
   ]
  },
  {
   "cell_type": "code",
   "execution_count": 14,
   "metadata": {},
   "outputs": [
    {
     "name": "stdout",
     "output_type": "stream",
     "text": [
      "Empty DataFrame\n",
      "Columns: [Tweets, User, User_statuses_count, user_followers, User_location, User_verified, fav_count, rt_count, tweet_date]\n",
      "Index: []\n"
     ]
    }
   ],
   "source": [
    "df = pd.DataFrame(columns = ['Tweets' , 'User' , 'User_statuses_count' , \n",
    "                            'user_followers' , 'User_location' , 'User_verified' ,\n",
    "                            'fav_count' , 'rt_count' , 'tweet_date'] )\n",
    "print(df)\n",
    "# print(df.shape)"
   ]
  },
  {
   "cell_type": "code",
   "execution_count": 15,
   "metadata": {},
   "outputs": [],
   "source": [
    "def stream(data, file_name):\n",
    "    i = 0\n",
    "    for tweet in tweepy.Cursor(api.search, q=data, count=100, lang='en').items():\n",
    "        print(i, end='\\r')\n",
    "        df.loc[i, 'Tweets'] = tweet.text\n",
    "        df.loc[i, 'User'] = tweet.user.name\n",
    "        df.loc[i, 'User_statuses_count'] = tweet.user.statuses_count\n",
    "        df.loc[i, 'user_followers'] = tweet.user.followers_count\n",
    "        df.loc[i, 'User_location'] = tweet.user.location\n",
    "        df.loc[i, 'User_verified'] = tweet.user.verified\n",
    "        df.loc[i, 'fav_count'] = tweet.favorite_count\n",
    "        df.loc[i, 'rt_count'] = tweet.retweet_count\n",
    "        df.loc[i, 'tweet_date'] = tweet.created_at\n",
    "        df.to_excel('{}.xlsx'.format(file_name))\n",
    "        i = i+1\n",
    "        if i == 1000:\n",
    "            break\n",
    "        else:\n",
    "            pass"
   ]
  },
  {
   "cell_type": "code",
   "execution_count": 16,
   "metadata": {},
   "outputs": [
    {
     "name": "stdout",
     "output_type": "stream",
     "text": [
      "999\r"
     ]
    }
   ],
   "source": [
    "stream(data=[\"RCB winning IPL\"] , file_name='my_tweets')"
   ]
  },
  {
   "cell_type": "code",
   "execution_count": 17,
   "metadata": {
    "scrolled": true
   },
   "outputs": [
    {
     "data": {
      "text/html": [
       "<div>\n",
       "<style scoped>\n",
       "    .dataframe tbody tr th:only-of-type {\n",
       "        vertical-align: middle;\n",
       "    }\n",
       "\n",
       "    .dataframe tbody tr th {\n",
       "        vertical-align: top;\n",
       "    }\n",
       "\n",
       "    .dataframe thead th {\n",
       "        text-align: right;\n",
       "    }\n",
       "</style>\n",
       "<table border=\"1\" class=\"dataframe\">\n",
       "  <thead>\n",
       "    <tr style=\"text-align: right;\">\n",
       "      <th></th>\n",
       "      <th>Tweets</th>\n",
       "      <th>User</th>\n",
       "      <th>User_statuses_count</th>\n",
       "      <th>user_followers</th>\n",
       "      <th>User_location</th>\n",
       "      <th>User_verified</th>\n",
       "      <th>fav_count</th>\n",
       "      <th>rt_count</th>\n",
       "      <th>tweet_date</th>\n",
       "    </tr>\n",
       "  </thead>\n",
       "  <tbody>\n",
       "    <tr>\n",
       "      <th>0</th>\n",
       "      <td>@RCBTweets @imVkohli RCB finished 13 consecuti...</td>\n",
       "      <td>Nanda Kumar</td>\n",
       "      <td>5</td>\n",
       "      <td>1</td>\n",
       "      <td></td>\n",
       "      <td>False</td>\n",
       "      <td>0</td>\n",
       "      <td>0</td>\n",
       "      <td>2020-11-09 12:04:55</td>\n",
       "    </tr>\n",
       "    <tr>\n",
       "      <th>1</th>\n",
       "      <td>@RCBTweets @navdeepsaini96 Until &amp;amp; unless ...</td>\n",
       "      <td>Escn Rcb</td>\n",
       "      <td>87</td>\n",
       "      <td>4</td>\n",
       "      <td></td>\n",
       "      <td>False</td>\n",
       "      <td>0</td>\n",
       "      <td>0</td>\n",
       "      <td>2020-11-09 09:29:16</td>\n",
       "    </tr>\n",
       "    <tr>\n",
       "      <th>2</th>\n",
       "      <td>@imVkohli I hope jab winning team ( LOL not RC...</td>\n",
       "      <td>︎ ︎ ︎</td>\n",
       "      <td>42244</td>\n",
       "      <td>2615</td>\n",
       "      <td></td>\n",
       "      <td>False</td>\n",
       "      <td>0</td>\n",
       "      <td>0</td>\n",
       "      <td>2020-11-09 09:24:01</td>\n",
       "    </tr>\n",
       "    <tr>\n",
       "      <th>3</th>\n",
       "      <td>@karanrathod5818 @imVkohli @PrithviShaw Kohli ...</td>\n",
       "      <td>Sandeep dhfm</td>\n",
       "      <td>651</td>\n",
       "      <td>201</td>\n",
       "      <td></td>\n",
       "      <td>False</td>\n",
       "      <td>0</td>\n",
       "      <td>0</td>\n",
       "      <td>2020-11-09 09:17:31</td>\n",
       "    </tr>\n",
       "    <tr>\n",
       "      <th>4</th>\n",
       "      <td>@ESPNcricinfo Over dependence on 2 batsmen hur...</td>\n",
       "      <td>Mangoman</td>\n",
       "      <td>9319</td>\n",
       "      <td>35</td>\n",
       "      <td></td>\n",
       "      <td>False</td>\n",
       "      <td>0</td>\n",
       "      <td>0</td>\n",
       "      <td>2020-11-09 06:06:51</td>\n",
       "    </tr>\n",
       "  </tbody>\n",
       "</table>\n",
       "</div>"
      ],
      "text/plain": [
       "                                              Tweets          User  \\\n",
       "0  @RCBTweets @imVkohli RCB finished 13 consecuti...   Nanda Kumar   \n",
       "1  @RCBTweets @navdeepsaini96 Until &amp; unless ...      Escn Rcb   \n",
       "2  @imVkohli I hope jab winning team ( LOL not RC...         ︎ ︎ ︎   \n",
       "3  @karanrathod5818 @imVkohli @PrithviShaw Kohli ...  Sandeep dhfm   \n",
       "4  @ESPNcricinfo Over dependence on 2 batsmen hur...      Mangoman   \n",
       "\n",
       "  User_statuses_count user_followers User_location User_verified fav_count  \\\n",
       "0                   5              1                       False         0   \n",
       "1                  87              4                       False         0   \n",
       "2               42244           2615                       False         0   \n",
       "3                 651            201                       False         0   \n",
       "4                9319             35                       False         0   \n",
       "\n",
       "  rt_count           tweet_date  \n",
       "0        0  2020-11-09 12:04:55  \n",
       "1        0  2020-11-09 09:29:16  \n",
       "2        0  2020-11-09 09:24:01  \n",
       "3        0  2020-11-09 09:17:31  \n",
       "4        0  2020-11-09 06:06:51  "
      ]
     },
     "execution_count": 17,
     "metadata": {},
     "output_type": "execute_result"
    }
   ],
   "source": [
    "df.head()"
   ]
  },
  {
   "cell_type": "code",
   "execution_count": 23,
   "metadata": {},
   "outputs": [],
   "source": [
    "from textblob import TextBlob\n",
    "#!pip install TextBlob"
   ]
  },
  {
   "cell_type": "code",
   "execution_count": 24,
   "metadata": {},
   "outputs": [],
   "source": [
    "import re\n",
    "def clean_tweet(tweet):\n",
    "    return ' '.join(re.sub('(@[A-Za-z0-9]+)|([^0-9A-Za-z \\t])|(\\w+:\\/\\/\\S+)', ' ', tweet).split())"
   ]
  },
  {
   "cell_type": "code",
   "execution_count": 25,
   "metadata": {},
   "outputs": [],
   "source": [
    "def analyze_sentiment(tweet):\n",
    "    analysis = TextBlob(tweet)\n",
    "    if analysis.sentiment.polarity > 0:\n",
    "        return 'Positive'\n",
    "    elif analysis.sentiment.polarity == 0:\n",
    "        return 'Neutral'\n",
    "    else:\n",
    "        return 'Negative'"
   ]
  },
  {
   "cell_type": "code",
   "execution_count": 26,
   "metadata": {},
   "outputs": [],
   "source": [
    "df['clean_tweet'] = df['Tweets'].apply(lambda x : clean_tweet(x))"
   ]
  },
  {
   "cell_type": "code",
   "execution_count": 27,
   "metadata": {},
   "outputs": [
    {
     "data": {
      "text/html": [
       "<div>\n",
       "<style scoped>\n",
       "    .dataframe tbody tr th:only-of-type {\n",
       "        vertical-align: middle;\n",
       "    }\n",
       "\n",
       "    .dataframe tbody tr th {\n",
       "        vertical-align: top;\n",
       "    }\n",
       "\n",
       "    .dataframe thead th {\n",
       "        text-align: right;\n",
       "    }\n",
       "</style>\n",
       "<table border=\"1\" class=\"dataframe\">\n",
       "  <thead>\n",
       "    <tr style=\"text-align: right;\">\n",
       "      <th></th>\n",
       "      <th>Tweets</th>\n",
       "      <th>User</th>\n",
       "      <th>User_statuses_count</th>\n",
       "      <th>user_followers</th>\n",
       "      <th>User_location</th>\n",
       "      <th>User_verified</th>\n",
       "      <th>fav_count</th>\n",
       "      <th>rt_count</th>\n",
       "      <th>tweet_date</th>\n",
       "      <th>clean_tweet</th>\n",
       "    </tr>\n",
       "  </thead>\n",
       "  <tbody>\n",
       "    <tr>\n",
       "      <th>0</th>\n",
       "      <td>@RCBTweets @imVkohli RCB finished 13 consecuti...</td>\n",
       "      <td>Nanda Kumar</td>\n",
       "      <td>5</td>\n",
       "      <td>1</td>\n",
       "      <td></td>\n",
       "      <td>False</td>\n",
       "      <td>0</td>\n",
       "      <td>0</td>\n",
       "      <td>2020-11-09 12:04:55</td>\n",
       "      <td>RCB finished 13 consecutive seasons without wi...</td>\n",
       "    </tr>\n",
       "    <tr>\n",
       "      <th>1</th>\n",
       "      <td>@RCBTweets @navdeepsaini96 Until &amp;amp; unless ...</td>\n",
       "      <td>Escn Rcb</td>\n",
       "      <td>87</td>\n",
       "      <td>4</td>\n",
       "      <td></td>\n",
       "      <td>False</td>\n",
       "      <td>0</td>\n",
       "      <td>0</td>\n",
       "      <td>2020-11-09 09:29:16</td>\n",
       "      <td>Until amp unless you change rcb captain we can...</td>\n",
       "    </tr>\n",
       "    <tr>\n",
       "      <th>2</th>\n",
       "      <td>@imVkohli I hope jab winning team ( LOL not RC...</td>\n",
       "      <td>︎ ︎ ︎</td>\n",
       "      <td>42244</td>\n",
       "      <td>2615</td>\n",
       "      <td></td>\n",
       "      <td>False</td>\n",
       "      <td>0</td>\n",
       "      <td>0</td>\n",
       "      <td>2020-11-09 09:24:01</td>\n",
       "      <td>I hope jab winning team LOL not RCB IPL trophy...</td>\n",
       "    </tr>\n",
       "    <tr>\n",
       "      <th>3</th>\n",
       "      <td>@karanrathod5818 @imVkohli @PrithviShaw Kohli ...</td>\n",
       "      <td>Sandeep dhfm</td>\n",
       "      <td>651</td>\n",
       "      <td>201</td>\n",
       "      <td></td>\n",
       "      <td>False</td>\n",
       "      <td>0</td>\n",
       "      <td>0</td>\n",
       "      <td>2020-11-09 09:17:31</td>\n",
       "      <td>Kohli as a captain has good winning percentage...</td>\n",
       "    </tr>\n",
       "    <tr>\n",
       "      <th>4</th>\n",
       "      <td>@ESPNcricinfo Over dependence on 2 batsmen hur...</td>\n",
       "      <td>Mangoman</td>\n",
       "      <td>9319</td>\n",
       "      <td>35</td>\n",
       "      <td></td>\n",
       "      <td>False</td>\n",
       "      <td>0</td>\n",
       "      <td>0</td>\n",
       "      <td>2020-11-09 06:06:51</td>\n",
       "      <td>Over dependence on 2 batsmen hurt them Bad squ...</td>\n",
       "    </tr>\n",
       "  </tbody>\n",
       "</table>\n",
       "</div>"
      ],
      "text/plain": [
       "                                              Tweets          User  \\\n",
       "0  @RCBTweets @imVkohli RCB finished 13 consecuti...   Nanda Kumar   \n",
       "1  @RCBTweets @navdeepsaini96 Until &amp; unless ...      Escn Rcb   \n",
       "2  @imVkohli I hope jab winning team ( LOL not RC...         ︎ ︎ ︎   \n",
       "3  @karanrathod5818 @imVkohli @PrithviShaw Kohli ...  Sandeep dhfm   \n",
       "4  @ESPNcricinfo Over dependence on 2 batsmen hur...      Mangoman   \n",
       "\n",
       "  User_statuses_count user_followers User_location User_verified fav_count  \\\n",
       "0                   5              1                       False         0   \n",
       "1                  87              4                       False         0   \n",
       "2               42244           2615                       False         0   \n",
       "3                 651            201                       False         0   \n",
       "4                9319             35                       False         0   \n",
       "\n",
       "  rt_count           tweet_date  \\\n",
       "0        0  2020-11-09 12:04:55   \n",
       "1        0  2020-11-09 09:29:16   \n",
       "2        0  2020-11-09 09:24:01   \n",
       "3        0  2020-11-09 09:17:31   \n",
       "4        0  2020-11-09 06:06:51   \n",
       "\n",
       "                                         clean_tweet  \n",
       "0  RCB finished 13 consecutive seasons without wi...  \n",
       "1  Until amp unless you change rcb captain we can...  \n",
       "2  I hope jab winning team LOL not RCB IPL trophy...  \n",
       "3  Kohli as a captain has good winning percentage...  \n",
       "4  Over dependence on 2 batsmen hurt them Bad squ...  "
      ]
     },
     "execution_count": 27,
     "metadata": {},
     "output_type": "execute_result"
    }
   ],
   "source": [
    "df.head()"
   ]
  },
  {
   "cell_type": "code",
   "execution_count": 28,
   "metadata": {},
   "outputs": [
    {
     "data": {
      "text/html": [
       "<div>\n",
       "<style scoped>\n",
       "    .dataframe tbody tr th:only-of-type {\n",
       "        vertical-align: middle;\n",
       "    }\n",
       "\n",
       "    .dataframe tbody tr th {\n",
       "        vertical-align: top;\n",
       "    }\n",
       "\n",
       "    .dataframe thead th {\n",
       "        text-align: right;\n",
       "    }\n",
       "</style>\n",
       "<table border=\"1\" class=\"dataframe\">\n",
       "  <thead>\n",
       "    <tr style=\"text-align: right;\">\n",
       "      <th></th>\n",
       "      <th>Tweets</th>\n",
       "      <th>User</th>\n",
       "      <th>User_statuses_count</th>\n",
       "      <th>user_followers</th>\n",
       "      <th>User_location</th>\n",
       "      <th>User_verified</th>\n",
       "      <th>fav_count</th>\n",
       "      <th>rt_count</th>\n",
       "      <th>tweet_date</th>\n",
       "      <th>clean_tweet</th>\n",
       "      <th>Sentiment</th>\n",
       "    </tr>\n",
       "  </thead>\n",
       "  <tbody>\n",
       "    <tr>\n",
       "      <th>0</th>\n",
       "      <td>@RCBTweets @imVkohli RCB finished 13 consecuti...</td>\n",
       "      <td>Nanda Kumar</td>\n",
       "      <td>5</td>\n",
       "      <td>1</td>\n",
       "      <td></td>\n",
       "      <td>False</td>\n",
       "      <td>0</td>\n",
       "      <td>0</td>\n",
       "      <td>2020-11-09 12:04:55</td>\n",
       "      <td>RCB finished 13 consecutive seasons without wi...</td>\n",
       "      <td>Positive</td>\n",
       "    </tr>\n",
       "    <tr>\n",
       "      <th>1</th>\n",
       "      <td>@RCBTweets @navdeepsaini96 Until &amp;amp; unless ...</td>\n",
       "      <td>Escn Rcb</td>\n",
       "      <td>87</td>\n",
       "      <td>4</td>\n",
       "      <td></td>\n",
       "      <td>False</td>\n",
       "      <td>0</td>\n",
       "      <td>0</td>\n",
       "      <td>2020-11-09 09:29:16</td>\n",
       "      <td>Until amp unless you change rcb captain we can...</td>\n",
       "      <td>Positive</td>\n",
       "    </tr>\n",
       "    <tr>\n",
       "      <th>2</th>\n",
       "      <td>@imVkohli I hope jab winning team ( LOL not RC...</td>\n",
       "      <td>︎ ︎ ︎</td>\n",
       "      <td>42244</td>\n",
       "      <td>2615</td>\n",
       "      <td></td>\n",
       "      <td>False</td>\n",
       "      <td>0</td>\n",
       "      <td>0</td>\n",
       "      <td>2020-11-09 09:24:01</td>\n",
       "      <td>I hope jab winning team LOL not RCB IPL trophy...</td>\n",
       "      <td>Positive</td>\n",
       "    </tr>\n",
       "    <tr>\n",
       "      <th>3</th>\n",
       "      <td>@karanrathod5818 @imVkohli @PrithviShaw Kohli ...</td>\n",
       "      <td>Sandeep dhfm</td>\n",
       "      <td>651</td>\n",
       "      <td>201</td>\n",
       "      <td></td>\n",
       "      <td>False</td>\n",
       "      <td>0</td>\n",
       "      <td>0</td>\n",
       "      <td>2020-11-09 09:17:31</td>\n",
       "      <td>Kohli as a captain has good winning percentage...</td>\n",
       "      <td>Positive</td>\n",
       "    </tr>\n",
       "    <tr>\n",
       "      <th>4</th>\n",
       "      <td>@ESPNcricinfo Over dependence on 2 batsmen hur...</td>\n",
       "      <td>Mangoman</td>\n",
       "      <td>9319</td>\n",
       "      <td>35</td>\n",
       "      <td></td>\n",
       "      <td>False</td>\n",
       "      <td>0</td>\n",
       "      <td>0</td>\n",
       "      <td>2020-11-09 06:06:51</td>\n",
       "      <td>Over dependence on 2 batsmen hurt them Bad squ...</td>\n",
       "      <td>Negative</td>\n",
       "    </tr>\n",
       "  </tbody>\n",
       "</table>\n",
       "</div>"
      ],
      "text/plain": [
       "                                              Tweets          User  \\\n",
       "0  @RCBTweets @imVkohli RCB finished 13 consecuti...   Nanda Kumar   \n",
       "1  @RCBTweets @navdeepsaini96 Until &amp; unless ...      Escn Rcb   \n",
       "2  @imVkohli I hope jab winning team ( LOL not RC...         ︎ ︎ ︎   \n",
       "3  @karanrathod5818 @imVkohli @PrithviShaw Kohli ...  Sandeep dhfm   \n",
       "4  @ESPNcricinfo Over dependence on 2 batsmen hur...      Mangoman   \n",
       "\n",
       "  User_statuses_count user_followers User_location User_verified fav_count  \\\n",
       "0                   5              1                       False         0   \n",
       "1                  87              4                       False         0   \n",
       "2               42244           2615                       False         0   \n",
       "3                 651            201                       False         0   \n",
       "4                9319             35                       False         0   \n",
       "\n",
       "  rt_count           tweet_date  \\\n",
       "0        0  2020-11-09 12:04:55   \n",
       "1        0  2020-11-09 09:29:16   \n",
       "2        0  2020-11-09 09:24:01   \n",
       "3        0  2020-11-09 09:17:31   \n",
       "4        0  2020-11-09 06:06:51   \n",
       "\n",
       "                                         clean_tweet Sentiment  \n",
       "0  RCB finished 13 consecutive seasons without wi...  Positive  \n",
       "1  Until amp unless you change rcb captain we can...  Positive  \n",
       "2  I hope jab winning team LOL not RCB IPL trophy...  Positive  \n",
       "3  Kohli as a captain has good winning percentage...  Positive  \n",
       "4  Over dependence on 2 batsmen hurt them Bad squ...  Negative  "
      ]
     },
     "execution_count": 28,
     "metadata": {},
     "output_type": "execute_result"
    }
   ],
   "source": [
    "df['Sentiment'] = df['clean_tweet'].apply(lambda x : analyze_sentiment(x) )\n",
    "df.head()"
   ]
  },
  {
   "cell_type": "code",
   "execution_count": 29,
   "metadata": {},
   "outputs": [
    {
     "name": "stdout",
     "output_type": "stream",
     "text": [
      "Original tweet:\n",
      " @see_woah Things I wanna see before I die - Rcb winning IPL\n",
      "\n",
      "Clean tweet:\n",
      " woah Things I wanna see before I die Rcb winning IPL\n",
      "\n",
      "Sentiment of the tweet:\n",
      " Positive\n"
     ]
    }
   ],
   "source": [
    "n = 98\n",
    "print(\"Original tweet:\\n\",df['Tweets'][n])\n",
    "print()\n",
    "print(\"Clean tweet:\\n\",df['clean_tweet'][n])\n",
    "print()\n",
    "print(\"Sentiment of the tweet:\\n\",df['Sentiment'][n])"
   ]
  },
  {
   "cell_type": "code",
   "execution_count": 30,
   "metadata": {},
   "outputs": [
    {
     "data": {
      "text/plain": [
       "867"
      ]
     },
     "execution_count": 30,
     "metadata": {},
     "output_type": "execute_result"
    }
   ],
   "source": [
    "df[df.Sentiment == 'Positive'].shape[0]"
   ]
  },
  {
   "cell_type": "code",
   "execution_count": 31,
   "metadata": {},
   "outputs": [
    {
     "data": {
      "text/plain": [
       "31"
      ]
     },
     "execution_count": 31,
     "metadata": {},
     "output_type": "execute_result"
    }
   ],
   "source": [
    "df[df.Sentiment == 'Neutral'].shape[0]"
   ]
  },
  {
   "cell_type": "code",
   "execution_count": 32,
   "metadata": {},
   "outputs": [
    {
     "data": {
      "text/plain": [
       "102"
      ]
     },
     "execution_count": 32,
     "metadata": {},
     "output_type": "execute_result"
    }
   ],
   "source": [
    "df[df.Sentiment == 'Negative'].shape[0]"
   ]
  },
  {
   "cell_type": "code",
   "execution_count": null,
   "metadata": {},
   "outputs": [],
   "source": []
  }
 ],
 "metadata": {
  "kernelspec": {
   "display_name": "Python 3",
   "language": "python",
   "name": "python3"
  },
  "language_info": {
   "codemirror_mode": {
    "name": "ipython",
    "version": 3
   },
   "file_extension": ".py",
   "mimetype": "text/x-python",
   "name": "python",
   "nbconvert_exporter": "python",
   "pygments_lexer": "ipython3",
   "version": "3.7.6"
  },
  "toc": {
   "base_numbering": 1,
   "nav_menu": {},
   "number_sections": true,
   "sideBar": true,
   "skip_h1_title": false,
   "title_cell": "Table of Contents",
   "title_sidebar": "Contents",
   "toc_cell": false,
   "toc_position": {},
   "toc_section_display": true,
   "toc_window_display": false
  }
 },
 "nbformat": 4,
 "nbformat_minor": 4
}
