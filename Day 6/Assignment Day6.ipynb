{
 "cells": [
  {
   "cell_type": "code",
   "execution_count": 58,
   "metadata": {},
   "outputs": [
    {
     "name": "stdout",
     "output_type": "stream",
     "text": [
      "Enter the Email Id:asdas@nsdjfnsdkjf.com\n",
      "Company name: nsdjfnsdkjf\n"
     ]
    }
   ],
   "source": [
    "\"\"\"\n",
    "Question 1:\n",
    "Assuming that we have some email addresses in the \"username@companyname.com\" format, please write program\n",
    "to print the company name of a given email address. Both user names and company names are composed of letters\n",
    "only.\n",
    "\n",
    "\"\"\"\n",
    "email = input(\"Enter the Email Id:\")\n",
    "y=email.partition(\"@\") \n",
    "txt=y[2].partition(\".\")\n",
    "print(\"Company name:\",txt[0])\n",
    "\n",
    "\n"
   ]
  },
  {
   "cell_type": "code",
   "execution_count": 21,
   "metadata": {},
   "outputs": [
    {
     "name": "stdout",
     "output_type": "stream",
     "text": [
      "enter data to sortww,rr,ff\n",
      "Sorted data are  ff ,rr ,ww\n"
     ]
    }
   ],
   "source": [
    "\"\"\"\n",
    "Question 2: Write a program that accepts a comma-separated sequence of words as input and prints the words in a comma separated sequence after sorting them alphabetically. \n",
    " \n",
    "Input Format: The first line of input contains words separated by the comma. Output Format: Print the sorted words separated by the comma. Example: Input: without,hello,bag,world Output: bag,hello,without,world\n",
    "\n",
    "\"\"\"\n",
    "\n",
    "\n",
    "items=[x for x in input(\"enter data to sort\").split(',')]\n",
    "items.sort()\n",
    "print (\"Sorted data are \",' ,'.join(items))"
   ]
  },
  {
   "cell_type": "code",
   "execution_count": 27,
   "metadata": {},
   "outputs": [
    {
     "name": "stdout",
     "output_type": "stream",
     "text": [
      "{'India', 'UK', 'USA'}\n",
      "India\n",
      "UK\n",
      "USA\n",
      "False\n",
      "True\n",
      "{'UAE', 'India', 'UK', 'USA'}\n"
     ]
    }
   ],
   "source": [
    "\"\"\"\n",
    "Question 3: Create your own Jupyter Notebook for Sets. Reference link: https://www.w3schools.com/python/python_sets.asp \n",
    "\n",
    "\n",
    "\"\"\"\n",
    "\n",
    "myset = {\"India\", \"USA\", \"UK\"}\n",
    "print(myset)\n",
    "\n",
    "\n",
    "for x in myset:\n",
    "  print(x)\n",
    "\n",
    "print(\"banana\" in myset)\n",
    "print(\"India\" in myset)\n",
    "\n",
    "\n",
    "\n",
    "myset.add(\"UAE\")\n",
    "\n",
    "print(myset)"
   ]
  },
  {
   "cell_type": "code",
   "execution_count": 61,
   "metadata": {},
   "outputs": [
    {
     "name": "stdout",
     "output_type": "stream",
     "text": [
      "The missing numbers: [3, 5, 8]\n"
     ]
    }
   ],
   "source": [
    "\"\"\"\n",
    "Question 4:  Given a list of n-1 numbers ranging from 1 to n, your task is to find the missing number. There are no duplicates. \n",
    " \n",
    "Input Format: The first line contains n-1 numbers with each number separated by a space. Output Format: Print the missing number Example: Input:1 2 4 6 3 7 8 Output:5 \n",
    " \n",
    "Explanation: In the above list of numbers 5 is missing and hence 5 is the input \n",
    "\n",
    "\n",
    "\n",
    "\"\"\"\n",
    "\n",
    "def find_missing(lst): \n",
    "    return [x for x in range(lst[0], lst[-1]+1)  \n",
    "                               if x not in lst] \n",
    "  \n",
    "# Driver code \n",
    "lst = [1, 2, 4, 6, 7, 9, 10] \n",
    "print(\"The missing numbers:\",find_missing(lst)) "
   ]
  },
  {
   "cell_type": "code",
   "execution_count": 59,
   "metadata": {},
   "outputs": [
    {
     "name": "stdout",
     "output_type": "stream",
     "text": [
      "Enter size of list: 5\n",
      "Enter elements:\n",
      "2 5 2 4 5\n",
      "Input Values: [2, 5, 2, 4, 5]\n",
      "The list after removing duplicates [2, 5, 4]\n"
     ]
    }
   ],
   "source": [
    "\"\"\"\n",
    "Question 5: With a given list L, write a program to print this list L after removing all duplicate values with original order reserved. \n",
    " \n",
    "Example: If the input list is 12 24 35 24 88 120 155 88 120 155 \n",
    " \n",
    "Then the output should be 12 24 35 88 120 155 \n",
    " \n",
    "Explanation: Third, seventh and ninth element of the list L has been removed because it was already present. Input Format: In one line take the elements of the list L with each element separated by a space. Output Format: Print the elements of the modified list in one line with each element separated by a space. Example: Input: 12 24 35 24 Output: 12 24 35 \n",
    "\n",
    "\"\"\"\n",
    "\n",
    "\n",
    "a = int(input(\"Enter size of list: \"))\n",
    "print(\"Enter elements:\")\n",
    "l = [int(z) for y, z in enumerate(input().split()) if y < a and z.isdigit()]\n",
    "print( \"Input Values:\",l)\n",
    "temp = []\n",
    "[temp.append(x) for x in l if x not in temp]\n",
    "print(\"The list after removing duplicates\",temp)"
   ]
  },
  {
   "cell_type": "code",
   "execution_count": null,
   "metadata": {},
   "outputs": [],
   "source": []
  }
 ],
 "metadata": {
  "kernelspec": {
   "display_name": "Python 3",
   "language": "python",
   "name": "python3"
  },
  "language_info": {
   "codemirror_mode": {
    "name": "ipython",
    "version": 3
   },
   "file_extension": ".py",
   "mimetype": "text/x-python",
   "name": "python",
   "nbconvert_exporter": "python",
   "pygments_lexer": "ipython3",
   "version": "3.7.6"
  },
  "toc": {
   "base_numbering": 1,
   "nav_menu": {},
   "number_sections": true,
   "sideBar": true,
   "skip_h1_title": false,
   "title_cell": "Table of Contents",
   "title_sidebar": "Contents",
   "toc_cell": false,
   "toc_position": {},
   "toc_section_display": true,
   "toc_window_display": false
  }
 },
 "nbformat": 4,
 "nbformat_minor": 4
}
