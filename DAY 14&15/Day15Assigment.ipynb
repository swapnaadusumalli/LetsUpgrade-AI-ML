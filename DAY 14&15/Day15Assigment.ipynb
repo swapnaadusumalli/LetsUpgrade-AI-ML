{
 "cells": [
  {
   "cell_type": "code",
   "execution_count": 1,
   "metadata": {},
   "outputs": [
    {
     "name": "stdout",
     "output_type": "stream",
     "text": [
      "3x3x3 array with random values [[[0.54343907 0.40753856 0.23434684]\n",
      "  [0.89866581 0.67205601 0.51991153]\n",
      "  [0.98016275 0.44029631 0.40755457]]\n",
      "\n",
      " [[0.67516336 0.89327184 0.06293444]\n",
      "  [0.06315776 0.15928277 0.8473947 ]\n",
      "  [0.27238788 0.06568159 0.63472011]]\n",
      "\n",
      " [[0.22738327 0.88219224 0.17598953]\n",
      "  [0.51646573 0.13553043 0.9190954 ]\n",
      "  [0.04008537 0.1984731  0.40107236]]]\n"
     ]
    }
   ],
   "source": [
    "\"\"\"\n",
    "1. Create a 3x3x3 array with random values\n",
    "\"\"\"\n",
    "\n",
    "\n",
    "import numpy as np\n",
    "x = np.random.random((3,3,3))\n",
    "print(\"3x3x3 array with random values\",x)\n"
   ]
  },
  {
   "cell_type": "code",
   "execution_count": 2,
   "metadata": {},
   "outputs": [
    {
     "name": "stdout",
     "output_type": "stream",
     "text": [
      "5x5 matrix with values 1,2,3,4 just below the diagonal [[1 0 0 0 0]\n",
      " [0 2 0 0 0]\n",
      " [0 0 3 0 0]\n",
      " [0 0 0 4 0]\n",
      " [0 0 0 0 5]]\n"
     ]
    }
   ],
   "source": [
    "\"\"\"\n",
    "Create a 5x5 matrix with values 1,2,3,4 just below the diagonal\n",
    "\"\"\"\n",
    "\n",
    "import numpy as np\n",
    "x = np.diag([1, 2, 3, 4, 5])\n",
    "print(\"5x5 matrix with values 1,2,3,4 just below the diagonal\",x)\n"
   ]
  },
  {
   "cell_type": "code",
   "execution_count": 3,
   "metadata": {},
   "outputs": [
    {
     "name": "stdout",
     "output_type": "stream",
     "text": [
      "Checkerboard pattern:\n",
      "[[0 1 0 1 0 1 0 1]\n",
      " [1 0 1 0 1 0 1 0]\n",
      " [0 1 0 1 0 1 0 1]\n",
      " [1 0 1 0 1 0 1 0]\n",
      " [0 1 0 1 0 1 0 1]\n",
      " [1 0 1 0 1 0 1 0]\n",
      " [0 1 0 1 0 1 0 1]\n",
      " [1 0 1 0 1 0 1 0]]\n"
     ]
    }
   ],
   "source": [
    "#3.Create a 8x8 matrix and fill it with a checkerboard pattern\n",
    "import numpy as np\n",
    "x = np.ones((3,3))\n",
    "print(\"Checkerboard pattern:\")\n",
    "x = np.zeros((8,8),dtype=int)\n",
    "x[1::2,::2] = 1\n",
    "x[::2,1::2] = 1\n",
    "print(x)"
   ]
  },
  {
   "cell_type": "code",
   "execution_count": 5,
   "metadata": {},
   "outputs": [
    {
     "name": "stdout",
     "output_type": "stream",
     "text": [
      "Original Array:\n",
      "[[0.13360524 0.91271932 0.96706097 0.68630184 0.30544413]\n",
      " [0.36905378 0.39146032 0.44200588 0.8545869  0.04092585]\n",
      " [0.46148379 0.91638175 0.32756363 0.778591   0.91721914]\n",
      " [0.17464961 0.73324552 0.39212323 0.23016661 0.28768975]\n",
      " [0.16606567 0.78011057 0.36211408 0.19842451 0.78950771]]\n",
      "After normalization:\n",
      "[[0.10007113 0.94132427 1.         0.69684863 0.2856152 ]\n",
      " [0.35429812 0.37849171 0.43306859 0.87855543 0.        ]\n",
      " [0.45409997 0.9452788  0.30949887 0.79649841 0.94618298]\n",
      " [0.14438903 0.74753635 0.37920749 0.20433385 0.26644481]\n",
      " [0.13512047 0.79813917 0.34680493 0.17006013 0.80828578]]\n"
     ]
    }
   ],
   "source": [
    "#4.Normalize a 5x5 random matrix\n",
    "\n",
    "import numpy as np\n",
    "x= np.random.random((5,5))\n",
    "print(\"Original Array:\")\n",
    "print(x)\n",
    "xmax, xmin = x.max(), x.min()\n",
    "x = (x - xmin)/(xmax - xmin)\n",
    "print(\"After normalization:\")\n",
    "print(x)\n"
   ]
  },
  {
   "cell_type": "code",
   "execution_count": 6,
   "metadata": {},
   "outputs": [
    {
     "name": "stdout",
     "output_type": "stream",
     "text": [
      "Array1:  [ 0 10 20 40 60]\n",
      "Array2:  [10, 30, 40]\n",
      "Common values between two arrays:\n",
      "[10 40]\n"
     ]
    }
   ],
   "source": [
    "#5.How to find common values between two arrays\n",
    "import numpy as np\n",
    "array1 = np.array([0, 10, 20, 40, 60])\n",
    "print(\"Array1: \",array1)\n",
    "array2 = [10, 30, 40]\n",
    "print(\"Array2: \",array2)\n",
    "print(\"Common values between two arrays:\")\n",
    "print(np.intersect1d(array1, array2))"
   ]
  },
  {
   "cell_type": "code",
   "execution_count": 7,
   "metadata": {},
   "outputs": [
    {
     "name": "stdout",
     "output_type": "stream",
     "text": [
      "Yestraday:  2020-07-24\n",
      "Today:  2020-07-25\n",
      "Tomorrow:  2020-07-26\n"
     ]
    }
   ],
   "source": [
    "#6.How to get the dates of yesterday, today and tomorrow\n",
    "import numpy as np\n",
    "yesterday = np.datetime64('today', 'D') - np.timedelta64(1, 'D')\n",
    "print(\"Yestraday: \",yesterday)\n",
    "today     = np.datetime64('today', 'D')\n",
    "print(\"Today: \",today)\n",
    "tomorrow  = np.datetime64('today', 'D') + np.timedelta64(1, 'D')\n",
    "print(\"Tomorrow: \",tomorrow)"
   ]
  },
  {
   "cell_type": "code",
   "execution_count": 13,
   "metadata": {},
   "outputs": [
    {
     "name": "stdout",
     "output_type": "stream",
     "text": [
      "First array:\n",
      "[0 1 1 1 1 0]\n",
      "Second array:\n",
      "[3 0 1 3 1 3]\n",
      "Test above two arrays are equal or not!\n",
      "False\n"
     ]
    }
   ],
   "source": [
    "#7.Consider two random array A and B, check if they are equal\n",
    "import numpy as np\n",
    "x = np.random.randint(0,2,6)\n",
    "print(\"First array:\")\n",
    "print(x)\n",
    "y = np.random.randint(0,4,6)\n",
    "print(\"Second array:\")\n",
    "print(y)\n",
    "print(\"Test above two arrays are equal or not!\")\n",
    "array_equal = np.allclose(x, y)\n",
    "print(array_equal)"
   ]
  },
  {
   "cell_type": "code",
   "execution_count": 14,
   "metadata": {},
   "outputs": [
    {
     "name": "stdout",
     "output_type": "stream",
     "text": [
      "Original array:\n",
      "[0.19034134 0.67894069 0.35577658 0.85264537 0.35958418 0.28228528\n",
      " 0.98338977 0.83612685 0.43460825 0.92573167]\n",
      "Maximum value replaced by 0:\n",
      "[0.19034134 0.67894069 0.35577658 0.85264537 0.35958418 0.28228528\n",
      " 0.         0.83612685 0.43460825 0.92573167]\n"
     ]
    }
   ],
   "source": [
    "#8.Create random vector of size 10 and replace the maximum value by 0\n",
    "import numpy as np\n",
    "x = np.random.random(10)\n",
    "print(\"Original array:\")\n",
    "print(x)\n",
    "x[x.argmax()] =0\n",
    "print(\"Maximum value replaced by 0:\")\n",
    "print(x)"
   ]
  },
  {
   "cell_type": "code",
   "execution_count": 20,
   "metadata": {},
   "outputs": [
    {
     "name": "stdout",
     "output_type": "stream",
     "text": [
      "[0 1 2 3 4]\n"
     ]
    }
   ],
   "source": [
    "#9. How to print all the values of an array?\n",
    "\n",
    "import numpy as np\n",
    "import sys\n",
    "nums = np.arange(5)\n",
    "np.set_printoptions(threshold=sys.maxsize)\n",
    "print(nums)"
   ]
  },
  {
   "cell_type": "code",
   "execution_count": 21,
   "metadata": {},
   "outputs": [
    {
     "name": "stdout",
     "output_type": "stream",
     "text": [
      "Original matrix:\n",
      "\n",
      "[[0.54501218 0.13790405 0.1574215  0.35592399 0.82112944 0.56617488\n",
      "  0.96162187 0.39255501 0.07957404 0.2857763 ]\n",
      " [0.84403965 0.80455801 0.16832988 0.45192455 0.26895496 0.59319795\n",
      "  0.32895533 0.93017896 0.40005325 0.84511137]\n",
      " [0.56159322 0.5989371  0.58154791 0.29923709 0.49922929 0.89358122\n",
      "  0.02677911 0.89169199 0.66720517 0.3573757 ]\n",
      " [0.32401038 0.33336489 0.56228861 0.10338516 0.42162276 0.97697063\n",
      "  0.81171329 0.90829388 0.91593155 0.09985516]\n",
      " [0.07852182 0.37046205 0.53152964 0.87408414 0.34638889 0.2318894\n",
      "  0.76050461 0.367989   0.53791899 0.66917935]]\n",
      "\n",
      "Subtract the mean of each row of the said matrix:\n",
      "\n",
      "[[ 0.11470285 -0.29240528 -0.27288782 -0.07438533  0.39082011  0.13586555\n",
      "   0.53131255 -0.03775431 -0.35073528 -0.14453303]\n",
      " [ 0.28050926  0.24102762 -0.39520051 -0.11160584 -0.29457543  0.02966756\n",
      "  -0.23457506  0.36664857 -0.16347714  0.28158098]\n",
      " [ 0.02387544  0.06121932  0.04383013 -0.23848069 -0.03848849  0.35586345\n",
      "  -0.51093867  0.35397421  0.12948739 -0.18034208]\n",
      " [-0.22173325 -0.21237874  0.01654498 -0.44235847 -0.12412087  0.431227\n",
      "   0.26596966  0.36255025  0.37018791 -0.44588847]\n",
      " [-0.39832497 -0.10638473  0.05468285  0.39723736 -0.1304579  -0.24495739\n",
      "   0.28365782 -0.10885779  0.0610722   0.19233256]]\n"
     ]
    }
   ],
   "source": [
    "# 10.Subtract the mean of each row of a matrix\n",
    "import numpy as np\n",
    "print(\"Original matrix:\\n\")\n",
    "X = np.random.rand(5, 10)\n",
    "print(X)\n",
    "print(\"\\nSubtract the mean of each row of the said matrix:\\n\")\n",
    "Y = X - X.mean(axis=1, keepdims=True)\n",
    "print(Y)"
   ]
  },
  {
   "cell_type": "code",
   "execution_count": 41,
   "metadata": {},
   "outputs": [
    {
     "name": "stdout",
     "output_type": "stream",
     "text": [
      "None\n",
      "[11 52  3]\n"
     ]
    }
   ],
   "source": [
    "#11.Consider a given vector, how to add 1 to each element indexed by a second vector (be careful with repeated indices)?\n",
    "\n",
    "import numpy as np\n",
    "A = np.array([1,2,3])\n",
    "B = np.array([10,20,30])\n",
    "I = np.array([0,1,1])\n",
    "np.add.at(A, I, B)\n",
    "print(A)"
   ]
  },
  {
   "cell_type": "code",
   "execution_count": 35,
   "metadata": {},
   "outputs": [
    {
     "name": "stdout",
     "output_type": "stream",
     "text": [
      "[[119 125 112]\n",
      " [ 57  74  66]\n",
      " [113 135 122]]\n",
      "[119  74 122]\n"
     ]
    }
   ],
   "source": [
    "# 12.How to get the diagonal of a dot product?\n",
    "import numpy as np\n",
    "a = np.random.randint(0, 10, (3,3))\n",
    "b = np.random.randint(0, 10, (3,3))\n",
    "\n",
    "print(a.dot(b))\n",
    "\n",
    "np.diagonal(a.dot(b))\n",
    "print(np.einsum('ij,ji->i', a,b))\n"
   ]
  },
  {
   "cell_type": "code",
   "execution_count": 36,
   "metadata": {},
   "outputs": [
    {
     "name": "stdout",
     "output_type": "stream",
     "text": [
      "Original array:\n",
      "[7 1 2 3 2 7 1 0 1 7 8 3 4 5 7 8 9 7 1 0 6 2 4 9 3 1 8 9 5 8 1 4 8 0 9 0 4\n",
      " 6 6 9]\n",
      "Most frequent value in the above array:\n",
      "1\n"
     ]
    }
   ],
   "source": [
    "#13.How to find the most frequent value in an array\n",
    "import numpy as np\n",
    "x = np.random.randint(0, 10, 40)\n",
    "print(\"Original array:\")\n",
    "print(x)\n",
    "print(\"Most frequent value in the above array:\")\n",
    "print(np.bincount(x).argmax())"
   ]
  },
  {
   "cell_type": "code",
   "execution_count": 37,
   "metadata": {},
   "outputs": [
    {
     "name": "stdout",
     "output_type": "stream",
     "text": [
      "Original array:\n",
      "[0 1 2 3 4 5 6 7 8 9]\n",
      "[9]\n"
     ]
    }
   ],
   "source": [
    "#14.How to get the n largest values of an array\n",
    "import numpy as np\n",
    "x = np.arange(10)\n",
    "print(\"Original array:\")\n",
    "print(x)\n",
    "np.random.shuffle(x)\n",
    "n = 1\n",
    "print (x[np.argsort(x)[-n:]])\n"
   ]
  },
  {
   "cell_type": "code",
   "execution_count": 38,
   "metadata": {},
   "outputs": [
    {
     "name": "stdout",
     "output_type": "stream",
     "text": [
      "(1, 'Red', 12.2)\n",
      "(2, 'Green', 15.)\n",
      "(3, 'White', 20.)\n"
     ]
    }
   ],
   "source": [
    "#15.How to create a record array from a regular array\n",
    "\n",
    "import numpy as np\n",
    "a1=np.array([1,2,3,4])\n",
    "a2=np.array(['Red','Green','White','Orange'])\n",
    "a3=np.array([12.20,15,20,40])\n",
    "result= np.core.records.fromarrays([a1, a2, a3],names='a,b,c')\n",
    "print(result[0])\n",
    "print(result[1])\n",
    "print(result[2])"
   ]
  },
  {
   "cell_type": "code",
   "execution_count": null,
   "metadata": {},
   "outputs": [],
   "source": []
  }
 ],
 "metadata": {
  "kernelspec": {
   "display_name": "Python 3",
   "language": "python",
   "name": "python3"
  },
  "language_info": {
   "codemirror_mode": {
    "name": "ipython",
    "version": 3
   },
   "file_extension": ".py",
   "mimetype": "text/x-python",
   "name": "python",
   "nbconvert_exporter": "python",
   "pygments_lexer": "ipython3",
   "version": "3.7.6"
  },
  "toc": {
   "base_numbering": 1,
   "nav_menu": {},
   "number_sections": true,
   "sideBar": true,
   "skip_h1_title": false,
   "title_cell": "Table of Contents",
   "title_sidebar": "Contents",
   "toc_cell": false,
   "toc_position": {},
   "toc_section_display": true,
   "toc_window_display": false
  }
 },
 "nbformat": 4,
 "nbformat_minor": 4
}
